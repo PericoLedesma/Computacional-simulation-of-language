{
 "cells": [
  {
   "cell_type": "markdown",
   "metadata": {
    "id": "J4XC97D5jsHb"
   },
   "source": [
    "# Lab 1: Simple Connectionist Models of Language\n",
    "\n",
    "Lab design and questions:\n",
    "- 2019, 2020 (original): J. Spenader.\n",
    "- 2022 (revision): N. de Jong.\n",
    "\n",
    "Python code versions:\n",
    "- 2019 (original): Wietse de Vries.\n",
    "- 2020 (revision): Kim van Arkel & Tziafas.\n",
    "- 2021 (revision): J. Spenader."
   ]
  },
  {
   "cell_type": "markdown",
   "metadata": {
    "id": "GFMnb0u_jsHd"
   },
   "source": [
    "## Learning Goals for this lab:\n",
    "\n",
    "* Get used to use the Keras deep learning framework\n",
    "* Build simple feed-forward connectionist networks\n",
    "* Understand the usefulness of hidden layers\n",
    "* Understand the features of simple recurrent networks (SRNs)\n",
    "* Build a simple recurrent network by using Keras that performs the same modelling experiment as Elman (1990)\n",
    "* Carry out a follow-up experiment with the Elman (1990) network\n",
    "* Answer questions related to Elman (1990)\n",
    "* All lab reports should be handed in individually. However, most questions can be compeleted in pairs if desired. The exception is Exercise 6 at the end of the lab. Exercise 6 should be answered individually. If you work together, please clearly identify who you worked with in your homework. Also, please add your name and student number to the first page of the homework.\n",
    "\n",
    "Note: only **boldface** questions next to capital letters in \"Exercise\" sections need to be included in the report. Other questions are rhetorical."
   ]
  },
  {
   "cell_type": "markdown",
   "metadata": {
    "id": "HwK_DLiMjsHe"
   },
   "source": [
    "# Part 1: Learning boolean operators using a feed-forward neural networks\n",
    "\n",
    "In this section, you will learn how to create a simple feed-forward neural network in Python by using [Keras](https://keras.io/). Feed-forward neural networks are one of the simplest types, because all information is passed on in one direction (forward!), with no information being 'looped' back into the netwokr. \n",
    "\n",
    "Keras is a high-level neural network API that runs on top of lower level neural network libraries like Tensorflow or Theano. Since the Tensorflow 2.0 official release, Keras is integrated as a back-end to the Tensorflow framework. Keras will let use easily build neural networks by simply defining what their design architecture should be. \n",
    "\n",
    "Before we get started, make sure you have installed Keras with a backend of your choice. Follow the [official instructions](https://keras.io/#installation) by Keras or get started quickly by running the following commands:\n",
    "\n",
    "```\n",
    "pip3 install tensorflow\n",
    "pip3 install keras\n",
    "```\n",
    "\n",
    "This is all you need to do to get started creating your first neural network! Now we are ready to create your first neural network that simulates the boolean AND operator."
   ]
  },
  {
   "cell_type": "markdown",
   "metadata": {
    "id": "jHkz2bWWjsHf"
   },
   "source": [
    "## Model definition\n",
    "\n",
    "To set up our neural network, e.g. define our 'model', we have to import some modules from Keras:"
   ]
  },
  {
   "cell_type": "code",
   "execution_count": 1,
   "metadata": {
    "id": "8aGYiKc7jsHh"
   },
   "outputs": [],
   "source": [
    "from tensorflow.keras.models import Sequential\n",
    "from tensorflow.keras.layers import Dense\n",
    "from tensorflow.keras.optimizers import SGD"
   ]
  },
  {
   "cell_type": "markdown",
   "metadata": {
    "id": "KrqNqU6EjsHs"
   },
   "source": [
    "Now we want to create very simple perceptron model that has two binary input nodes (that accept `0`'s or `1`'s), and a single binary output node that outputs a  `1` if and only if both inputs were `1`, and otherwise will output a `0`. (Can you already guess what function this network models?)\n",
    "\n",
    "In Keras, we can create a simple feed-forward neural network by creating what's termed a  [`Sequential`](https://keras.io/models/sequential/) model. We'll call it `model_1` since it's our first model. Within a `Sequential` model, an arbitrary number of layers can be defined. The last layer is the output layer and any preceding layers are hidden layers. The first layer in the model requires information about the input shape, i.e. how many nodes are 'sending through' input. Note that the input layer is not explicitly defined as a layer in a `Sequential` Keras model.\n",
    "\n",
    "The model can be defined the following way:"
   ]
  },
  {
   "cell_type": "code",
   "execution_count": 2,
   "metadata": {
    "colab": {
     "base_uri": "https://localhost:8080/"
    },
    "id": "lD58Py1TjsHt",
    "outputId": "7473ab6c-c6e4-49f1-cdbe-6c57e65e620a"
   },
   "outputs": [
    {
     "name": "stdout",
     "output_type": "stream",
     "text": [
      "_________________________________________________________________\n",
      "Layer (type)                 Output Shape              Param #   \n",
      "=================================================================\n",
      "output (Dense)               (None, 1)                 3         \n",
      "=================================================================\n",
      "Total params: 3\n",
      "Trainable params: 3\n",
      "Non-trainable params: 0\n",
      "_________________________________________________________________\n"
     ]
    }
   ],
   "source": [
    "model_1 = Sequential([\n",
    "    Dense(1, input_dim=2, activation='tanh', name='output')\n",
    "])\n",
    "\n",
    "model_1.summary()"
   ]
  },
  {
   "cell_type": "markdown",
   "metadata": {
    "id": "iPr_a6qEjsHw"
   },
   "source": [
    "This command will create a feed-forward network (a `model`) that contains a single layer, the output layer with one node (one unit). The [`Dense`](https://keras.io/layers/core/) layer type means that this is a type of basic neural network layer in which all units are connected to all units in the previous layer (not very relevant for the current network because it's so simple, but it will be relevant later on). Inside the `Dense` expression we also say how many input nodes there are with the input_dim=2 information. For this network we have also used the `tanh` [activation function](https://keras.io/activations/).  Note also that by default, every unit in a dense layer also has a bias, so this does not need to be explicitly defined. \n",
    "After defining the model, it has be be compiled, i.e. it has to be run, in a process where the weights will be modified depending on how well the network does in predicting the output given some input. "
   ]
  },
  {
   "cell_type": "code",
   "execution_count": 3,
   "metadata": {
    "id": "P9yv-eBfjsHx"
   },
   "outputs": [],
   "source": [
    "model_1.compile(loss='mean_squared_error', \n",
    "              optimizer=SGD(lr=0.3, momentum=0.8),\n",
    "              metrics=['accuracy'])"
   ]
  },
  {
   "cell_type": "markdown",
   "metadata": {
    "id": "G4Em5-pEjsH3"
   },
   "source": [
    "In compiling, the model will try to minimize error, also known as `loss`. We use the mean squared error [loss](https://keras.io/losses/) function to cacluate loss with the stochastic gradient descent [optimizer](https://keras.io/optimizers/). (It is a good idea to read a bit about this and familiarize yourself with these terms). The learning rate and momentum often have to be chosen by trial an error. In choosing these settings the goal is often to choose values that lead to the fastest or most accurate performance. But for our purposes we often instead want to prioritize settings that are realistic for simulating human learning and human performance. \n",
    "\n",
    "The `compile` method also allows definition of [metrics](https://keras.io/metrics/), i.e. ways in which you can evaluate the quality of the results. This does not influence training, but just gives us some nice information to analyze (and hopefully graph!)."
   ]
  },
  {
   "cell_type": "markdown",
   "metadata": {
    "id": "Fg2pxB22jsH5"
   },
   "source": [
    "## Training\n",
    "\n",
    "Before we start training however, we need some training data. Python machine learning conventions are that input data is defined as an `X` variable and the corresponding target output as `y`. Recall that our model has only two input nodes, so this means the only possibilities (since these are binary input nodes) is one of four possible combinations of `0`s and `1`s. See below. So we will need two-dimensional input values, and our goal is to learn to predict the one-dimensional output given in `y,` such that only when both input values are `1` do we output `1`.  "
   ]
  },
  {
   "cell_type": "code",
   "execution_count": 4,
   "metadata": {
    "id": "E81eXDTbjsH6"
   },
   "outputs": [],
   "source": [
    "import numpy as np"
   ]
  },
  {
   "cell_type": "code",
   "execution_count": 5,
   "metadata": {
    "id": "1MidlGPbjsIB"
   },
   "outputs": [],
   "source": [
    "X = np.array([(0,0), (1,0), (0,1), (1,1)])\n",
    "y = np.array([0, 0, 0, 1])"
   ]
  },
  {
   "cell_type": "markdown",
   "metadata": {
    "id": "VmXOl9oTjsII"
   },
   "source": [
    "Now we can train our model using the command `model.fit()`. We'll store the training in `history`. We'll train for 15 epochs, which means that we'll run the entire training set (shuffled) trhough the network, each time revising the weights based on the difference between our output and `y`, 15 times. We would also like to know what is going on as it's running, so we'll ask for to see some output information during training (e.g. `verbose=2`). \n",
    "\n",
    "\n",
    "---\n",
    "\n",
    "\n",
    "Submission Notes: After you've seen how the model trains, and noted your observations, you can set `verbose=0` for submission. If you submit a PDF, you should also only include the graphs or a summary and notes on your observations, not the results of every epoch)."
   ]
  },
  {
   "cell_type": "code",
   "execution_count": 6,
   "metadata": {
    "colab": {
     "base_uri": "https://localhost:8080/"
    },
    "id": "WV_e1cZDjsIJ",
    "outputId": "a799ba03-1ae1-4725-e295-4d4836054072"
   },
   "outputs": [
    {
     "name": "stdout",
     "output_type": "stream",
     "text": [
      "Epoch 1/15\n",
      " - 0s - loss: 1.1368 - acc: 0.2500\n",
      "Epoch 2/15\n",
      " - 0s - loss: 0.9710 - acc: 0.5000\n",
      "Epoch 3/15\n",
      " - 0s - loss: 0.5742 - acc: 0.7500\n",
      "Epoch 4/15\n",
      " - 0s - loss: 0.3515 - acc: 0.2500\n",
      "Epoch 5/15\n",
      " - 0s - loss: 0.4802 - acc: 0.2500\n",
      "Epoch 6/15\n",
      " - 0s - loss: 0.5263 - acc: 0.2500\n",
      "Epoch 7/15\n",
      " - 0s - loss: 0.5132 - acc: 0.2500\n",
      "Epoch 8/15\n",
      " - 0s - loss: 0.4497 - acc: 0.2500\n",
      "Epoch 9/15\n",
      " - 0s - loss: 0.3217 - acc: 0.5000\n",
      "Epoch 10/15\n",
      " - 0s - loss: 0.1404 - acc: 0.7500\n",
      "Epoch 11/15\n",
      " - 0s - loss: 0.1021 - acc: 0.7500\n",
      "Epoch 12/15\n",
      " - 0s - loss: 0.2269 - acc: 0.5000\n",
      "Epoch 13/15\n",
      " - 0s - loss: 0.1361 - acc: 0.5000\n",
      "Epoch 14/15\n",
      " - 0s - loss: 0.0934 - acc: 1.0000\n",
      "Epoch 15/15\n",
      " - 0s - loss: 0.1335 - acc: 1.0000\n"
     ]
    }
   ],
   "source": [
    "history = model_1.fit(X, y, epochs=15, shuffle=True, verbose=2)"
   ]
  },
  {
   "cell_type": "markdown",
   "metadata": {
    "id": "vgUBqJ5rjsIO"
   },
   "source": [
    "An accuracy of `1.0` seems good. This means that the model now always makes the correct prediction. Let's look more closely at the training process. The easiest way to understand the training process is to graph it so that we can examine it visually."
   ]
  },
  {
   "cell_type": "code",
   "execution_count": 7,
   "metadata": {
    "id": "zDBa4REDjsIP"
   },
   "outputs": [],
   "source": [
    "import matplotlib.pyplot as plt"
   ]
  },
  {
   "cell_type": "markdown",
   "metadata": {
    "id": "GaQPWxDdjsIZ"
   },
   "source": [
    "With the below code snippet, you can visualise the loss and the accuracy progression of your trained model through the `'loss'` and `'acc'` keys of the dictionary object `history.history`: "
   ]
  },
  {
   "cell_type": "code",
   "execution_count": 8,
   "metadata": {},
   "outputs": [
    {
     "name": "stdout",
     "output_type": "stream",
     "text": [
      "dict_keys(['loss', 'acc'])\n"
     ]
    }
   ],
   "source": [
    "# list all data in history\n",
    "print(history.history.keys())"
   ]
  },
  {
   "cell_type": "code",
   "execution_count": 9,
   "metadata": {
    "colab": {
     "base_uri": "https://localhost:8080/",
     "height": 573
    },
    "id": "ao0t7Ek6jsIa",
    "outputId": "3af28003-58fb-4510-9605-9c4721f87eb6"
   },
   "outputs": [
    {
     "data": {
      "image/png": "[encoded data removed]",
      "text/plain": [
       "<Figure size 432x288 with 1 Axes>"
      ]
     },
     "metadata": {
      "needs_background": "light"
     },
     "output_type": "display_data"
    },
    {
     "data": {
      "image/png": "[encoded data removed]",
      "text/plain": [
       "<Figure size 432x288 with 1 Axes>"
      ]
     },
     "metadata": {
      "needs_background": "light"
     },
     "output_type": "display_data"
    }
   ],
   "source": [
    "plt.plot(history.history['loss'])\n",
    "plt.title('Model loss (lower is better)')\n",
    "plt.ylabel('Mean Squared Error')\n",
    "plt.xlabel('Epoch')\n",
    "plt.show()\n",
    "\n",
    "plt.plot(history.history['acc'])\n",
    "plt.title('Model accuracy (higher is better)')\n",
    "plt.ylabel('Accuracy')\n",
    "plt.xlabel('Epoch')\n",
    "plt.show()"
   ]
  },
  {
   "cell_type": "markdown",
   "metadata": {
    "id": "I2f18NsrjsIf"
   },
   "source": [
    "Note that the loss decreases nicely, but it is not yet completely zero. For deterministic problems like a simple AND operation this would be possible but in real world scenario's having a zero loss is often impossible."
   ]
  },
  {
   "cell_type": "markdown",
   "metadata": {
    "id": "uLwd7cCujsIg"
   },
   "source": [
    "## Exercise 1"
   ]
  },
  {
   "cell_type": "markdown",
   "metadata": {
    "id": "uLwd7cCujsIg"
   },
   "source": [
    "**A) Draw the architecture diagram of the neural network with circles and arrows. How many nodes does the model have (incl. bias)?.**"
   ]
  },
  {
   "cell_type": "markdown",
   "metadata": {},
   "source": [
    "<img src=\"Data/image1.png\">"
   ]
  },
  {
   "cell_type": "markdown",
   "metadata": {
    "id": "uLwd7cCujsIg"
   },
   "source": [
    "**B) What is the formula that describes the output `y'` with respect to the inputs `(x1,x2)` (Hint: use w1 and w2 for weights)?**"
   ]
  },
  {
   "cell_type": "markdown",
   "metadata": {},
   "source": [
    "y' = w1*x1 +w2*x2"
   ]
  },
  {
   "cell_type": "markdown",
   "metadata": {
    "id": "uLwd7cCujsIg"
   },
   "source": [
    "**C) What is the loss function used for training this model? Provide it's formula for model predictions `y'` and\n",
    "target outputs `y`.**"
   ]
  },
  {
   "cell_type": "markdown",
   "metadata": {},
   "source": [
    "Loss function used: Mean squared error\n",
    "<img src=\"Data/image2.png\">"
   ]
  },
  {
   "cell_type": "markdown",
   "metadata": {
    "id": "Mk1_KZadjsIg"
   },
   "source": [
    "## Network analysis"
   ]
  },
  {
   "cell_type": "markdown",
   "metadata": {
    "id": "ihzRj6PmjsIh"
   },
   "source": [
    "To see what the network learned, we can visualize the model weights using a special function that was designed for this lab, called  `plot_functions.py`. This function is in the Lab folder on Nestor. The function will show us the network with its weights, showing positive weights in red, and negative weights in blue. "
   ]
  },
  {
   "cell_type": "code",
   "execution_count": 10,
   "metadata": {
    "id": "_Ne5efCU0TPW"
   },
   "outputs": [],
   "source": [
    "import plot_functions"
   ]
  },
  {
   "cell_type": "code",
   "execution_count": 11,
   "metadata": {
    "id": "K5Pl3eBFNiBh"
   },
   "outputs": [],
   "source": [
    "from plot_functions import plot_weight_matrix, plot_activation_matrix"
   ]
  },
  {
   "cell_type": "markdown",
   "metadata": {
    "id": "-7dJK9VPjsIt"
   },
   "source": [
    "Now we see that the output is only above 0.5 if both input values are 1. Let's see what the exact outputs are for our four possible inputs:"
   ]
  },
  {
   "cell_type": "code",
   "execution_count": 12,
   "metadata": {
    "colab": {
     "base_uri": "https://localhost:8080/",
     "height": 374
    },
    "id": "azJd8PKHjsIu",
    "outputId": "78895141-d8b1-4a0f-f9e0-483c92c8a6dc"
   },
   "outputs": [
    {
     "name": "stderr",
     "output_type": "stream",
     "text": [
      "/Users/pedrorodriguezdeledesmajimenez/opt/anaconda3/envs/ComputerSimulationOfLanguage/lib/python3.5/site-packages/matplotlib/text.py:1190: FutureWarning: elementwise comparison failed; returning scalar instead, but in the future will perform elementwise comparison\n",
      "  if s != self._text:\n"
     ]
    },
    {
     "data": {
      "image/png": "[encoded data removed]",
      "text/plain": [
       "<Figure size 432x288 with 2 Axes>"
      ]
     },
     "metadata": {
      "needs_background": "light"
     },
     "output_type": "display_data"
    }
   ],
   "source": [
    "plot_activation_matrix(model_1, X, vmin=0, vmax=1)"
   ]
  },
  {
   "cell_type": "markdown",
   "metadata": {
    "id": "FTgvpP2ejsIx"
   },
   "source": [
    "## Exercise 2"
   ]
  },
  {
   "cell_type": "markdown",
   "metadata": {
    "id": "FTgvpP2ejsIx"
   },
   "source": [
    "**A) Re-run the model, but this time only run 4 or 5 Epochs (so that you don't get 1.00 accuracy). Then plot the weight matrix for the model. Multiply the inputs by the weights to get the output. Explain how the model works and why it does not get all cases correct.**"
   ]
  },
  {
   "cell_type": "code",
   "execution_count": 13,
   "metadata": {},
   "outputs": [],
   "source": [
    "model_2 = Sequential([\n",
    "    Dense(1, input_dim=2, activation='tanh', name='output')\n",
    "])"
   ]
  },
  {
   "cell_type": "code",
   "execution_count": 14,
   "metadata": {},
   "outputs": [],
   "source": [
    "model_2.compile(loss='mean_squared_error', \n",
    "              optimizer=SGD(lr=0.3, momentum=0.8),\n",
    "              metrics=['accuracy'])"
   ]
  },
  {
   "cell_type": "code",
   "execution_count": 15,
   "metadata": {},
   "outputs": [
    {
     "name": "stdout",
     "output_type": "stream",
     "text": [
      "Epoch 1/4\n",
      " - 0s - loss: 1.0975 - acc: 0.5000\n",
      "Epoch 2/4\n",
      " - 0s - loss: 0.9615 - acc: 0.5000\n",
      "Epoch 3/4\n",
      " - 0s - loss: 0.6302 - acc: 0.7500\n",
      "Epoch 4/4\n",
      " - 0s - loss: 0.3214 - acc: 0.2500\n"
     ]
    }
   ],
   "source": [
    "history2 = model_2.fit(X, y, epochs=4, shuffle=True, verbose=2)"
   ]
  },
  {
   "cell_type": "code",
   "execution_count": 16,
   "metadata": {},
   "outputs": [
    {
     "name": "stdout",
     "output_type": "stream",
     "text": [
      "Predicted value:  [[0.7184207 ]\n",
      " [0.87363124]\n",
      " [0.6779431 ]\n",
      " [0.8535641 ]]\n"
     ]
    }
   ],
   "source": [
    "print('Predicted value: ',model_2.predict(X))"
   ]
  },
  {
   "cell_type": "markdown",
   "metadata": {},
   "source": [
    "### Weights of both model.\n",
    "Model 1 with 10 epochs\n",
    "Model 2 with 4 epochs"
   ]
  },
  {
   "cell_type": "code",
   "execution_count": 17,
   "metadata": {},
   "outputs": [
    {
     "name": "stdout",
     "output_type": "stream",
     "text": [
      "[[0.86265117]\n",
      " [0.86051023]]\n",
      "----\n",
      "[[ 0.44384098]\n",
      " [-0.07907537]]\n"
     ]
    }
   ],
   "source": [
    "weights, bias =model_1.get_weights()\n",
    "weights2, bias2 =model_2.get_weights()\n",
    "print(weights)\n",
    "print('----')\n",
    "print(weights2)"
   ]
  },
  {
   "cell_type": "markdown",
   "metadata": {},
   "source": [
    "The model has some initial weights and biases and during the training/fit phase, we find the values for the parameters that best describe the set data in order to predict new datapoints category. In each epoch we improve the values with a training technique, is this case the stochastic gradient descent method is being used. Therefore, in each epoch compute the direction of the gradient and adjust the weight based on the gradient.\n",
    "\n",
    "We can see that the computed weights of each model are different after training n number of epochs. This is because in each epoch the weights are recalculated or trained by adding or subtracting a proportional part of the gradient of the weights related to the cost function. Therefore, in the last model the weights didn't had enough epochs to get an accurate model and calculate the weights that best describe the data set.\n",
    "\n",
    "The gradients of each weight related to the cost function (mean squared error in this model) are obtained by computing the derivative of the cost function based on the weights of the model. \n",
    "\n",
    "The training process mentioned is done with the Stochastic gradient descent technique computing the next formula:\n",
    "\n",
    "--->>  w(t+1)= w(t) - learning_rate * gradient_w(t)"
   ]
  },
  {
   "cell_type": "markdown",
   "metadata": {},
   "source": [
    "Now we are computing the values with the formula: <br>\n",
    "predicted_value = X_1*weights_j + X_2 * weights_i + bias"
   ]
  },
  {
   "cell_type": "code",
   "execution_count": 18,
   "metadata": {},
   "outputs": [],
   "source": [
    "# Hyperbolic Tangent (htan) Activation Function\n",
    "def htan(x):\n",
    "  return (np.exp(x) - np.exp(-x))/(np.exp(x) + np.exp(-x))"
   ]
  },
  {
   "cell_type": "code",
   "execution_count": 19,
   "metadata": {},
   "outputs": [
    {
     "name": "stdout",
     "output_type": "stream",
     "text": [
      "Sample: 0  -->  [0.7184207]  and real value --> 0\n",
      "Sample: 1  -->  [0.8736312]  and real value --> 0\n",
      "Sample: 2  -->  [0.67794317]  and real value --> 0\n",
      "Sample: 3  -->  [0.8535641]  and real value --> 1\n"
     ]
    }
   ],
   "source": [
    "# We calculate the predicte value manualy \n",
    "for row in range(len(X)):\n",
    "    predicted_value = 0\n",
    "    predicted_value = htan(X[row][0]*weights2[0] + X[row][1] * weights2[1] + bias2)\n",
    "    print('Sample:',row, ' --> ',predicted_value, ' and real value -->', y[row])"
   ]
  },
  {
   "cell_type": "code",
   "execution_count": 20,
   "metadata": {},
   "outputs": [
    {
     "name": "stdout",
     "output_type": "stream",
     "text": [
      "Predicted value:  [[0.7184207 ]\n",
      " [0.87363124]\n",
      " [0.6779431 ]\n",
      " [0.8535641 ]]\n"
     ]
    }
   ],
   "source": [
    "print('Predicted value: ',model_2.predict(X))"
   ]
  },
  {
   "cell_type": "markdown",
   "metadata": {
    "id": "FTgvpP2ejsIx"
   },
   "source": [
    "**B) Now that you know how to define and train a simple model, try to model the inclusive OR operator instead of AND using the same model. You don't have to change the model architecture: simply create a new training data and your own training data (X) and target output (y) for inclusive OR.**"
   ]
  },
  {
   "cell_type": "code",
   "execution_count": 21,
   "metadata": {},
   "outputs": [],
   "source": [
    "X = np.array([(0,0), (1,0), (0,1), (1,1)])\n",
    "y = np.array([0, 1, 1, 1])"
   ]
  },
  {
   "cell_type": "code",
   "execution_count": 22,
   "metadata": {},
   "outputs": [],
   "source": [
    "model_3 = Sequential([\n",
    "    Dense(1, input_dim=2, activation='tanh', name='output')\n",
    "])"
   ]
  },
  {
   "cell_type": "code",
   "execution_count": 23,
   "metadata": {},
   "outputs": [],
   "source": [
    "model_3.compile(loss='mean_squared_error', \n",
    "              optimizer=SGD(lr=0.3, momentum=0.8),\n",
    "              metrics=['accuracy'])"
   ]
  },
  {
   "cell_type": "code",
   "execution_count": 24,
   "metadata": {},
   "outputs": [
    {
     "name": "stdout",
     "output_type": "stream",
     "text": [
      "Epoch 1/15\n",
      " - 0s - loss: 0.6342 - acc: 0.5000\n",
      "Epoch 2/15\n",
      " - 0s - loss: 0.2830 - acc: 0.7500\n",
      "Epoch 3/15\n",
      " - 0s - loss: 0.1131 - acc: 0.7500\n",
      "Epoch 4/15\n",
      " - 0s - loss: 0.1258 - acc: 0.7500\n",
      "Epoch 5/15\n",
      " - 0s - loss: 0.1478 - acc: 0.7500\n",
      "Epoch 6/15\n",
      " - 0s - loss: 0.1590 - acc: 0.7500\n",
      "Epoch 7/15\n",
      " - 0s - loss: 0.1617 - acc: 0.7500\n",
      "Epoch 8/15\n",
      " - 0s - loss: 0.1578 - acc: 0.7500\n",
      "Epoch 9/15\n",
      " - 0s - loss: 0.1478 - acc: 0.7500\n",
      "Epoch 10/15\n",
      " - 0s - loss: 0.1315 - acc: 0.7500\n",
      "Epoch 11/15\n",
      " - 0s - loss: 0.1081 - acc: 0.7500\n",
      "Epoch 12/15\n",
      " - 0s - loss: 0.0776 - acc: 0.7500\n",
      "Epoch 13/15\n",
      " - 0s - loss: 0.0438 - acc: 1.0000\n",
      "Epoch 14/15\n",
      " - 0s - loss: 0.0157 - acc: 1.0000\n",
      "Epoch 15/15\n",
      " - 0s - loss: 0.0037 - acc: 1.0000\n"
     ]
    }
   ],
   "source": [
    "history3 = model_3.fit(X, y, epochs=15, shuffle=True, verbose=2)"
   ]
  },
  {
   "cell_type": "markdown",
   "metadata": {},
   "source": [
    "We needed 13 to get 100% accuracy"
   ]
  },
  {
   "cell_type": "markdown",
   "metadata": {
    "id": "FTgvpP2ejsIx"
   },
   "source": [
    "**C) What is the resulting loss compared to the AND implementation? Plot the loss and accuracy and include these plots in your answer. Is the model able to deal correctly with inclusive OR ? How does the model work? Explain your answer by referring to the weights learned.**"
   ]
  },
  {
   "cell_type": "code",
   "execution_count": 25,
   "metadata": {},
   "outputs": [
    {
     "data": {
      "image/png": "[encoded data removed]",
      "text/plain": [
       "<Figure size 432x288 with 1 Axes>"
      ]
     },
     "metadata": {
      "needs_background": "light"
     },
     "output_type": "display_data"
    },
    {
     "data": {
      "image/png": "[encoded data removed]",
      "text/plain": [
       "<Figure size 432x288 with 1 Axes>"
      ]
     },
     "metadata": {
      "needs_background": "light"
     },
     "output_type": "display_data"
    }
   ],
   "source": [
    "plt.plot(history3.history['loss'], color=\"blue\")\n",
    "plt.plot(history.history['loss'], color=\"red\")\n",
    "plt.title('Model loss (lower is better)')\n",
    "plt.ylabel('Mean Squared Error')\n",
    "plt.xlabel('Epoch')\n",
    "plt.show()\n",
    "\n",
    "plt.plot(history3.history['acc'],color=\"blue\")\n",
    "plt.plot(history.history['acc'], color=\"red\")\n",
    "plt.title('Model accuracy (higher is better)')\n",
    "plt.ylabel('Accuracy')\n",
    "plt.xlabel('Epoch')\n",
    "plt.show()"
   ]
  },
  {
   "cell_type": "markdown",
   "metadata": {},
   "source": [
    "We can see that the model has learned faster than the model with the AND operator data. This is because the operator OR has an easier logic to learn: if there is an input, then 1. We can see this in the weights, where all the values are positives and higher than in previous models. This way, if there is an input, the tanh activation function will fire."
   ]
  },
  {
   "cell_type": "code",
   "execution_count": 26,
   "metadata": {},
   "outputs": [
    {
     "name": "stdout",
     "output_type": "stream",
     "text": [
      "[[1.4865892]\n",
      " [1.6705327]] [-0.10540853]\n"
     ]
    }
   ],
   "source": [
    "weights3, bias3 =model_3.get_weights()\n",
    "print(weights3, bias3)"
   ]
  },
  {
   "cell_type": "markdown",
   "metadata": {},
   "source": [
    "Here we can see the tanh activation function. Is important the bias too becuase it move the tanh activation function in the X axis.\n",
    "\n",
    "<img src=\"Data/TanhReal.png\">"
   ]
  },
  {
   "cell_type": "markdown",
   "metadata": {
    "id": "FTgvpP2ejsIx"
   },
   "source": [
    "**D) Try to do the same for the exclusive OR (XOR) operator. Create training and target data and use the same model to train. What do you notice? Explain what problems you encounter and why.**"
   ]
  },
  {
   "cell_type": "code",
   "execution_count": 27,
   "metadata": {},
   "outputs": [],
   "source": [
    "X = np.array([(0,0), (1,0), (0,1), (1,1)])\n",
    "y = np.array([0, 1, 1, 0])"
   ]
  },
  {
   "cell_type": "code",
   "execution_count": 28,
   "metadata": {},
   "outputs": [],
   "source": [
    "model_4 = Sequential([\n",
    "    Dense(1, input_dim=2, activation='tanh', name='output')\n",
    "])"
   ]
  },
  {
   "cell_type": "code",
   "execution_count": 29,
   "metadata": {},
   "outputs": [],
   "source": [
    "model_4.compile(loss='mean_squared_error', \n",
    "              optimizer=SGD(lr=0.3, momentum=0.8),\n",
    "              metrics=['accuracy'])"
   ]
  },
  {
   "cell_type": "code",
   "execution_count": 30,
   "metadata": {},
   "outputs": [
    {
     "name": "stdout",
     "output_type": "stream",
     "text": [
      "Epoch 1/30\n",
      " - 0s - loss: 0.2552 - acc: 0.7500\n",
      "Epoch 2/30\n",
      " - 0s - loss: 0.2549 - acc: 0.7500\n",
      "Epoch 3/30\n",
      " - 0s - loss: 0.2545 - acc: 0.7500\n",
      "Epoch 4/30\n",
      " - 0s - loss: 0.2543 - acc: 0.7500\n",
      "Epoch 5/30\n",
      " - 0s - loss: 0.2542 - acc: 0.7500\n",
      "Epoch 6/30\n",
      " - 0s - loss: 0.2542 - acc: 0.7500\n",
      "Epoch 7/30\n",
      " - 0s - loss: 0.2542 - acc: 0.7500\n",
      "Epoch 8/30\n",
      " - 0s - loss: 0.2541 - acc: 0.7500\n",
      "Epoch 9/30\n",
      " - 0s - loss: 0.2540 - acc: 0.7500\n",
      "Epoch 10/30\n",
      " - 0s - loss: 0.2538 - acc: 0.7500\n",
      "Epoch 11/30\n",
      " - 0s - loss: 0.2537 - acc: 0.7500\n",
      "Epoch 12/30\n",
      " - 0s - loss: 0.2536 - acc: 0.7500\n",
      "Epoch 13/30\n",
      " - 0s - loss: 0.2535 - acc: 0.7500\n",
      "Epoch 14/30\n",
      " - 0s - loss: 0.2534 - acc: 0.7500\n",
      "Epoch 15/30\n",
      " - 0s - loss: 0.2534 - acc: 0.7500\n",
      "Epoch 16/30\n",
      " - 0s - loss: 0.2533 - acc: 0.7500\n",
      "Epoch 17/30\n",
      " - 0s - loss: 0.2532 - acc: 0.7500\n",
      "Epoch 18/30\n",
      " - 0s - loss: 0.2531 - acc: 0.7500\n",
      "Epoch 19/30\n",
      " - 0s - loss: 0.2530 - acc: 0.7500\n",
      "Epoch 20/30\n",
      " - 0s - loss: 0.2530 - acc: 0.7500\n",
      "Epoch 21/30\n",
      " - 0s - loss: 0.2529 - acc: 0.7500\n",
      "Epoch 22/30\n",
      " - 0s - loss: 0.2528 - acc: 0.7500\n",
      "Epoch 23/30\n",
      " - 0s - loss: 0.2528 - acc: 0.7500\n",
      "Epoch 24/30\n",
      " - 0s - loss: 0.2527 - acc: 0.7500\n",
      "Epoch 25/30\n",
      " - 0s - loss: 0.2526 - acc: 0.7500\n",
      "Epoch 26/30\n",
      " - 0s - loss: 0.2526 - acc: 0.7500\n",
      "Epoch 27/30\n",
      " - 0s - loss: 0.2525 - acc: 0.7500\n",
      "Epoch 28/30\n",
      " - 0s - loss: 0.2525 - acc: 0.7500\n",
      "Epoch 29/30\n",
      " - 0s - loss: 0.2524 - acc: 0.7500\n",
      "Epoch 30/30\n",
      " - 0s - loss: 0.2524 - acc: 0.7500\n"
     ]
    }
   ],
   "source": [
    "history4 = model_4.fit(X, y, epochs=30, shuffle=True, verbose=2)"
   ]
  },
  {
   "cell_type": "code",
   "execution_count": 31,
   "metadata": {},
   "outputs": [
    {
     "name": "stdout",
     "output_type": "stream",
     "text": [
      "dict_keys(['loss', 'acc'])\n"
     ]
    }
   ],
   "source": [
    "# list all data in history\n",
    "print(history4.history.keys())"
   ]
  },
  {
   "cell_type": "code",
   "execution_count": 32,
   "metadata": {},
   "outputs": [
    {
     "data": {
      "image/png": "[encoded data removed]",
      "text/plain": [
       "<Figure size 432x288 with 1 Axes>"
      ]
     },
     "metadata": {
      "needs_background": "light"
     },
     "output_type": "display_data"
    },
    {
     "data": {
      "image/png": "[encoded data removed]",
      "text/plain": [
       "<Figure size 432x288 with 1 Axes>"
      ]
     },
     "metadata": {
      "needs_background": "light"
     },
     "output_type": "display_data"
    }
   ],
   "source": [
    "plt.plot(history3.history['loss'], color=\"blue\")\n",
    "plt.plot(history4.history['loss'], color=\"red\")\n",
    "plt.title('Model loss (lower is better)')\n",
    "plt.ylabel('Mean Squared Error')\n",
    "plt.xlabel('Epoch')\n",
    "plt.show()\n",
    "\n",
    "plt.plot(history3.history['acc'],color=\"blue\")\n",
    "plt.plot(history4.history['acc'], color=\"red\")\n",
    "plt.title('Model accuracy (higher is better)')\n",
    "plt.ylabel('Accuracy')\n",
    "plt.xlabel('Epoch')\n",
    "plt.show()"
   ]
  },
  {
   "cell_type": "markdown",
   "metadata": {},
   "source": [
    "We can see that the last model with the XOR operator can reach the 100% accuracy. This is because we can't create a line that can classify the points correctly and separate the 2D space in two regions. For this specific case we need a multiperceptron."
   ]
  },
  {
   "cell_type": "markdown",
   "metadata": {
    "id": "FTgvpP2ejsIx"
   },
   "source": [
    "**E) Create a new network model that does solve the XOR problem. You can do this by adding an additional `Dense` layer with two units to the network. Note: to do this, the `input_dim` parameter will need to be moved to the first layer.**"
   ]
  },
  {
   "cell_type": "code",
   "execution_count": 33,
   "metadata": {},
   "outputs": [],
   "source": [
    "model_5 = Sequential([\n",
    "    Dense(2, input_dim=2, activation='tanh', name='layer1'),\n",
    "    Dense(1, activation='tanh', name='output')\n",
    "])"
   ]
  },
  {
   "cell_type": "code",
   "execution_count": 34,
   "metadata": {},
   "outputs": [],
   "source": [
    "model_5.compile(loss='mean_squared_error', \n",
    "              optimizer=SGD(lr=0.3, momentum=0.8),\n",
    "              metrics=['accuracy'])"
   ]
  },
  {
   "cell_type": "code",
   "execution_count": 35,
   "metadata": {},
   "outputs": [
    {
     "name": "stdout",
     "output_type": "stream",
     "text": [
      "Epoch 1/100\n",
      " - 0s - loss: 0.3372 - acc: 0.5000\n",
      "Epoch 2/100\n",
      " - 0s - loss: 0.2435 - acc: 0.5000\n",
      "Epoch 3/100\n",
      " - 0s - loss: 0.2465 - acc: 0.7500\n",
      "Epoch 4/100\n",
      " - 0s - loss: 0.2299 - acc: 0.7500\n",
      "Epoch 5/100\n",
      " - 0s - loss: 0.1864 - acc: 0.7500\n",
      "Epoch 6/100\n",
      " - 0s - loss: 0.1767 - acc: 0.5000\n",
      "Epoch 7/100\n",
      " - 0s - loss: 0.1939 - acc: 0.7500\n",
      "Epoch 8/100\n",
      " - 0s - loss: 0.1719 - acc: 0.7500\n",
      "Epoch 9/100\n",
      " - 0s - loss: 0.1680 - acc: 0.7500\n",
      "Epoch 10/100\n",
      " - 0s - loss: 0.1740 - acc: 0.7500\n",
      "Epoch 11/100\n",
      " - 0s - loss: 0.1668 - acc: 0.7500\n",
      "Epoch 12/100\n",
      " - 0s - loss: 0.1572 - acc: 0.7500\n",
      "Epoch 13/100\n",
      " - 0s - loss: 0.1576 - acc: 0.7500\n",
      "Epoch 14/100\n",
      " - 0s - loss: 0.1538 - acc: 0.7500\n",
      "Epoch 15/100\n",
      " - 0s - loss: 0.1452 - acc: 0.7500\n",
      "Epoch 16/100\n",
      " - 0s - loss: 0.1427 - acc: 0.7500\n",
      "Epoch 17/100\n",
      " - 0s - loss: 0.1388 - acc: 0.7500\n",
      "Epoch 18/100\n",
      " - 0s - loss: 0.1311 - acc: 0.7500\n",
      "Epoch 19/100\n",
      " - 0s - loss: 0.1259 - acc: 1.0000\n",
      "Epoch 20/100\n",
      " - 0s - loss: 0.1200 - acc: 1.0000\n",
      "Epoch 21/100\n",
      " - 0s - loss: 0.1118 - acc: 1.0000\n",
      "Epoch 22/100\n",
      " - 0s - loss: 0.1052 - acc: 1.0000\n",
      "Epoch 23/100\n",
      " - 0s - loss: 0.0965 - acc: 1.0000\n",
      "Epoch 24/100\n",
      " - 0s - loss: 0.0872 - acc: 1.0000\n",
      "Epoch 25/100\n",
      " - 0s - loss: 0.0787 - acc: 1.0000\n",
      "Epoch 26/100\n",
      " - 0s - loss: 0.0691 - acc: 1.0000\n",
      "Epoch 27/100\n",
      " - 0s - loss: 0.0610 - acc: 1.0000\n",
      "Epoch 28/100\n",
      " - 0s - loss: 0.0525 - acc: 1.0000\n",
      "Epoch 29/100\n",
      " - 0s - loss: 0.0451 - acc: 1.0000\n",
      "Epoch 30/100\n",
      " - 0s - loss: 0.0380 - acc: 1.0000\n",
      "Epoch 31/100\n",
      " - 0s - loss: 0.0319 - acc: 1.0000\n",
      "Epoch 32/100\n",
      " - 0s - loss: 0.0264 - acc: 1.0000\n",
      "Epoch 33/100\n",
      " - 0s - loss: 0.0219 - acc: 1.0000\n",
      "Epoch 34/100\n",
      " - 0s - loss: 0.0181 - acc: 1.0000\n",
      "Epoch 35/100\n",
      " - 0s - loss: 0.0150 - acc: 1.0000\n",
      "Epoch 36/100\n",
      " - 0s - loss: 0.0126 - acc: 1.0000\n",
      "Epoch 37/100\n",
      " - 0s - loss: 0.0106 - acc: 1.0000\n",
      "Epoch 38/100\n",
      " - 0s - loss: 0.0090 - acc: 1.0000\n",
      "Epoch 39/100\n",
      " - 0s - loss: 0.0077 - acc: 1.0000\n",
      "Epoch 40/100\n",
      " - 0s - loss: 0.0067 - acc: 1.0000\n",
      "Epoch 41/100\n",
      " - 0s - loss: 0.0058 - acc: 1.0000\n",
      "Epoch 42/100\n",
      " - 0s - loss: 0.0052 - acc: 1.0000\n",
      "Epoch 43/100\n",
      " - 0s - loss: 0.0046 - acc: 1.0000\n",
      "Epoch 44/100\n",
      " - 0s - loss: 0.0041 - acc: 1.0000\n",
      "Epoch 45/100\n",
      " - 0s - loss: 0.0037 - acc: 1.0000\n",
      "Epoch 46/100\n",
      " - 0s - loss: 0.0034 - acc: 1.0000\n",
      "Epoch 47/100\n",
      " - 0s - loss: 0.0032 - acc: 1.0000\n",
      "Epoch 48/100\n",
      " - 0s - loss: 0.0029 - acc: 1.0000\n",
      "Epoch 49/100\n",
      " - 0s - loss: 0.0027 - acc: 1.0000\n",
      "Epoch 50/100\n",
      " - 0s - loss: 0.0026 - acc: 1.0000\n",
      "Epoch 51/100\n",
      " - 0s - loss: 0.0024 - acc: 1.0000\n",
      "Epoch 52/100\n",
      " - 0s - loss: 0.0023 - acc: 1.0000\n",
      "Epoch 53/100\n",
      " - 0s - loss: 0.0022 - acc: 1.0000\n",
      "Epoch 54/100\n",
      " - 0s - loss: 0.0021 - acc: 1.0000\n",
      "Epoch 55/100\n",
      " - 0s - loss: 0.0020 - acc: 1.0000\n",
      "Epoch 56/100\n",
      " - 0s - loss: 0.0019 - acc: 1.0000\n",
      "Epoch 57/100\n",
      " - 0s - loss: 0.0018 - acc: 1.0000\n",
      "Epoch 58/100\n",
      " - 0s - loss: 0.0017 - acc: 1.0000\n",
      "Epoch 59/100\n",
      " - 0s - loss: 0.0017 - acc: 1.0000\n",
      "Epoch 60/100\n",
      " - 0s - loss: 0.0016 - acc: 1.0000\n",
      "Epoch 61/100\n",
      " - 0s - loss: 0.0016 - acc: 1.0000\n",
      "Epoch 62/100\n",
      " - 0s - loss: 0.0015 - acc: 1.0000\n",
      "Epoch 63/100\n",
      " - 0s - loss: 0.0015 - acc: 1.0000\n",
      "Epoch 64/100\n",
      " - 0s - loss: 0.0014 - acc: 1.0000\n",
      "Epoch 65/100\n",
      " - 0s - loss: 0.0014 - acc: 1.0000\n",
      "Epoch 66/100\n",
      " - 0s - loss: 0.0013 - acc: 1.0000\n",
      "Epoch 67/100\n",
      " - 0s - loss: 0.0013 - acc: 1.0000\n",
      "Epoch 68/100\n",
      " - 0s - loss: 0.0013 - acc: 1.0000\n",
      "Epoch 69/100\n",
      " - 0s - loss: 0.0012 - acc: 1.0000\n",
      "Epoch 70/100\n",
      " - 0s - loss: 0.0012 - acc: 1.0000\n",
      "Epoch 71/100\n",
      " - 0s - loss: 0.0012 - acc: 1.0000\n",
      "Epoch 72/100\n",
      " - 0s - loss: 0.0011 - acc: 1.0000\n",
      "Epoch 73/100\n",
      " - 0s - loss: 0.0011 - acc: 1.0000\n",
      "Epoch 74/100\n",
      " - 0s - loss: 0.0011 - acc: 1.0000\n",
      "Epoch 75/100\n",
      " - 0s - loss: 0.0011 - acc: 1.0000\n",
      "Epoch 76/100\n",
      " - 0s - loss: 0.0010 - acc: 1.0000\n",
      "Epoch 77/100\n",
      " - 0s - loss: 0.0010 - acc: 1.0000\n",
      "Epoch 78/100\n",
      " - 0s - loss: 9.9530e-04 - acc: 1.0000\n",
      "Epoch 79/100\n",
      " - 0s - loss: 9.7491e-04 - acc: 1.0000\n",
      "Epoch 80/100\n",
      " - 0s - loss: 9.5532e-04 - acc: 1.0000\n",
      "Epoch 81/100\n",
      " - 0s - loss: 9.3650e-04 - acc: 1.0000\n",
      "Epoch 82/100\n",
      " - 0s - loss: 9.1838e-04 - acc: 1.0000\n",
      "Epoch 83/100\n",
      " - 0s - loss: 9.0094e-04 - acc: 1.0000\n",
      "Epoch 84/100\n",
      " - 0s - loss: 8.8413e-04 - acc: 1.0000\n",
      "Epoch 85/100\n",
      " - 0s - loss: 8.6793e-04 - acc: 1.0000\n",
      "Epoch 86/100\n",
      " - 0s - loss: 8.5229e-04 - acc: 1.0000\n",
      "Epoch 87/100\n",
      " - 0s - loss: 8.3719e-04 - acc: 1.0000\n",
      "Epoch 88/100\n",
      " - 0s - loss: 8.2260e-04 - acc: 1.0000\n",
      "Epoch 89/100\n",
      " - 0s - loss: 8.0850e-04 - acc: 1.0000\n",
      "Epoch 90/100\n",
      " - 0s - loss: 7.9486e-04 - acc: 1.0000\n",
      "Epoch 91/100\n",
      " - 0s - loss: 7.8165e-04 - acc: 1.0000\n",
      "Epoch 92/100\n",
      " - 0s - loss: 7.6887e-04 - acc: 1.0000\n",
      "Epoch 93/100\n",
      " - 0s - loss: 7.5648e-04 - acc: 1.0000\n",
      "Epoch 94/100\n",
      " - 0s - loss: 7.4447e-04 - acc: 1.0000\n",
      "Epoch 95/100\n",
      " - 0s - loss: 7.3283e-04 - acc: 1.0000\n",
      "Epoch 96/100\n",
      " - 0s - loss: 7.2153e-04 - acc: 1.0000\n",
      "Epoch 97/100\n",
      " - 0s - loss: 7.1056e-04 - acc: 1.0000\n",
      "Epoch 98/100\n",
      " - 0s - loss: 6.9991e-04 - acc: 1.0000\n",
      "Epoch 99/100\n",
      " - 0s - loss: 6.8956e-04 - acc: 1.0000\n",
      "Epoch 100/100\n",
      " - 0s - loss: 6.7951e-04 - acc: 1.0000\n"
     ]
    }
   ],
   "source": [
    "history4 = model_5.fit(X, y, epochs=100, shuffle=True, verbose=2)"
   ]
  },
  {
   "cell_type": "markdown",
   "metadata": {
    "id": "FTgvpP2ejsIx"
   },
   "source": [
    "**F) How successful is this new model? Also, how does your network solve the problem? Look at the weight matrix of your trained model, include it in your report with a short paragraph describing in words how the model works.**"
   ]
  },
  {
   "cell_type": "markdown",
   "metadata": {},
   "source": [
    "The new model obtain 100% accuracy, but needed many epoch to train the weights. The input get multiply by the weights, each input with two weights ( total four in the first layer, two per input and per neuron). After the bias are add (one per neuron, total two) and the values pass through the activation function. The two activated values of the neurons again get multiply by weights (two) and finaly arrive to the output neuron were again an activation function is used. One unit is highly activated when the input sequence is a series of identical elements(all 1s or 0s), whereas the other unit is highly activated when the input elements alternate."
   ]
  },
  {
   "cell_type": "code",
   "execution_count": 36,
   "metadata": {},
   "outputs": [
    {
     "name": "stdout",
     "output_type": "stream",
     "text": [
      "[[1.008228  2.1196685]\n",
      " [1.0401969 2.2887452]] [-1.4729971  -0.73707575]\n"
     ]
    }
   ],
   "source": [
    "weights1, weights2, bias1, bias2 =model_5.get_weights()\n",
    "print(weights1, weights2)"
   ]
  },
  {
   "cell_type": "markdown",
   "metadata": {
    "id": "FezqvENZjsIz"
   },
   "source": [
    "# Part 2: Modelling Sequential XOR with Simple Recurrent Neural Networks\n",
    "\n",
    "If you have completed the previous exercise, you have solved the XOR problem using a feed-forward neural network in Keras. But feed-forwad networks do not have any way to keep track of sequences of words in time, where the words may depend on each other. But language use does rely on information about the previous word for interpreting the next. To be able to include this kind of temporal/memory information in a simple network, we need to use something more complex than a feed forward model.  In this section,  we will create our first simple recurrent neural network. This network is a reproduction of the sequential XOR network by Elman (1990).\n",
    "\n",
    "The input for our network will be a single 3,000-bit which is created by concatenating 1,000 random XOR sequences. Every first and second bit is random and the third bit is the XOR of the first two values. The network tries to predict the next bit in the sequence. For this, the network needs to remember information about previous inputs since that is the only way to correctly predict every third input.\n",
    "\n",
    "_Elman, J. L. (1990). Finding structure in time. Cognitive science, 14(2), 179-211._"
   ]
  },
  {
   "cell_type": "code",
   "execution_count": 37,
   "metadata": {
    "id": "rce3yWeajsI0"
   },
   "outputs": [],
   "source": [
    "np.random.seed(1990)  # Use random seed for reproducability"
   ]
  },
  {
   "cell_type": "markdown",
   "metadata": {
    "id": "g9oRxOz_jsI7"
   },
   "source": [
    "## Model definition\n",
    "\n",
    "Let's again define a very simple network, this time with a single input and output unit. But we'll add more complexity by adding an additional dimension: we'll store in a memory what the output weights of the previous input were, i.e. we'll keep some information about the step before the data we are analyzing. This will be accomplished by using what's called a `Time Distributed` unit, which will give us the memory we need. First, import necessary `keras` packages:"
   ]
  },
  {
   "cell_type": "code",
   "execution_count": 38,
   "metadata": {
    "id": "BsADkPI4jsI-"
   },
   "outputs": [],
   "source": [
    "from tensorflow.keras.layers import SimpleRNN, TimeDistributed\n",
    "from tensorflow.keras.initializers import Constant"
   ]
  },
  {
   "cell_type": "code",
   "execution_count": 39,
   "metadata": {
    "id": "TrEFuuNbjsJC"
   },
   "outputs": [],
   "source": [
    "model = Sequential([\n",
    "    SimpleRNN(2, input_shape=(3000, 1),\n",
    "              return_sequences=True,\n",
    "              activation='tanh',\n",
    "              recurrent_initializer=Constant(0.5),\n",
    "              name='hidden'),\n",
    "    TimeDistributed(Dense(1, activation='sigmoid', name='output'))\n",
    "])\n",
    "\n",
    "model.compile(loss='mean_squared_error', \n",
    "              optimizer=SGD(lr=0.4, momentum=0.9),\n",
    "              metrics=['binary_accuracy'])"
   ]
  },
  {
   "cell_type": "markdown",
   "metadata": {
    "id": "Ys_vlj20jsJF"
   },
   "source": [
    "In the model above, we define a simple recurrent neural network with [`SimpleRNN`](https://keras.io/layers/recurrent/#simplernn) with 2 units in the recurrent hidden layer. Its input shape is `(3000, 1)` which corresponds to 3000 time steps with 1 dimension each. The `return_sequences=True` argument makes sure that activation is passed on to the next layer for every time step instead of only the final time step activation. We want that the network makes a seperate prediction for every time step, so the output layer is wrapped inside of `TimeDistributed`. This wrapper makes it possible to backpropagate for every time step consequtively instead of optimizing the complete sequence at once."
   ]
  },
  {
   "cell_type": "markdown",
   "metadata": {
    "id": "IvWyIkBIjsJH"
   },
   "source": [
    "## Training\n",
    "\n",
    "Now we can create our training data. This is a concatenation of 1000 random XOR problems."
   ]
  },
  {
   "cell_type": "code",
   "execution_count": 40,
   "metadata": {
    "colab": {
     "base_uri": "https://localhost:8080/",
     "height": 229
    },
    "id": "K5cePkNnjsJK",
    "outputId": "34990f38-f1cb-4168-c3ee-802b079699d4"
   },
   "outputs": [
    {
     "data": {
      "text/plain": [
       "((1, 3000, 1), (1, 3000, 1))"
      ]
     },
     "execution_count": 40,
     "metadata": {},
     "output_type": "execute_result"
    }
   ],
   "source": [
    "xor_data = np.array([(0,0,0), (0,1,1), (1,0,1), (1,1,0)])\n",
    "xor_sequence = np.ravel(xor_data[np.random.randint(4, size=1001)])\n",
    "\n",
    "X = xor_sequence[np.newaxis, :-3, np.newaxis]\n",
    "y = xor_sequence[np.newaxis, 1:-2, np.newaxis]\n",
    "\n",
    "X.shape, y.shape"
   ]
  },
  {
   "cell_type": "code",
   "execution_count": 41,
   "metadata": {},
   "outputs": [
    {
     "data": {
      "text/plain": [
       "(array([1]), array([0]))"
      ]
     },
     "execution_count": 41,
     "metadata": {},
     "output_type": "execute_result"
    }
   ],
   "source": [
    "X[0][100], y[0][100]"
   ]
  },
  {
   "cell_type": "code",
   "execution_count": 42,
   "metadata": {},
   "outputs": [
    {
     "data": {
      "text/plain": [
       "(3000, 1)"
      ]
     },
     "execution_count": 42,
     "metadata": {},
     "output_type": "execute_result"
    }
   ],
   "source": [
    "X[0].shape"
   ]
  },
  {
   "cell_type": "markdown",
   "metadata": {
    "id": "a-mw3MHdjsJP"
   },
   "source": [
    "The X and y shapes must be `(input_size, timesteps, input_dim)`. We only train a single sequence, it has 3000 time steps and it has 1 dimension."
   ]
  },
  {
   "cell_type": "markdown",
   "metadata": {
    "id": "UEF3eVM_jsJT"
   },
   "source": [
    "Lets's look at how well the network can learn our training data:"
   ]
  },
  {
   "cell_type": "code",
   "execution_count": 43,
   "metadata": {
    "colab": {
     "base_uri": "https://localhost:8080/"
    },
    "id": "dkNvJxigjsJU",
    "outputId": "a93bad40-a86c-47eb-ad24-d5e0fa3f577e"
   },
   "outputs": [
    {
     "name": "stdout",
     "output_type": "stream",
     "text": [
      "Epoch 1/300\n",
      " - 1s - loss: 0.3760 - binary_accuracy: 0.4890\n",
      "Epoch 2/300\n",
      " - 1s - loss: 0.3640 - binary_accuracy: 0.4887\n",
      "Epoch 3/300\n",
      " - 1s - loss: 0.3412 - binary_accuracy: 0.4880\n",
      "Epoch 4/300\n",
      " - 1s - loss: 0.3126 - binary_accuracy: 0.4830\n",
      "Epoch 5/300\n",
      " - 1s - loss: 0.2860 - binary_accuracy: 0.4310\n",
      "Epoch 6/300\n",
      " - 1s - loss: 0.2694 - binary_accuracy: 0.5097\n",
      "Epoch 7/300\n",
      " - 1s - loss: 0.2662 - binary_accuracy: 0.5557\n",
      "Epoch 8/300\n",
      " - 1s - loss: 0.2718 - binary_accuracy: 0.5110\n",
      "Epoch 9/300\n",
      " - 1s - loss: 0.2781 - binary_accuracy: 0.5110\n",
      "Epoch 10/300\n",
      " - 1s - loss: 0.2815 - binary_accuracy: 0.5110\n",
      "Epoch 11/300\n",
      " - 1s - loss: 0.2812 - binary_accuracy: 0.5110\n",
      "Epoch 12/300\n",
      " - 1s - loss: 0.2780 - binary_accuracy: 0.5110\n",
      "Epoch 13/300\n",
      " - 1s - loss: 0.2728 - binary_accuracy: 0.5110\n",
      "Epoch 14/300\n",
      " - 1s - loss: 0.2667 - binary_accuracy: 0.5110\n",
      "Epoch 15/300\n",
      " - 1s - loss: 0.2607 - binary_accuracy: 0.5110\n",
      "Epoch 16/300\n",
      " - 1s - loss: 0.2558 - binary_accuracy: 0.5110\n",
      "Epoch 17/300\n",
      " - 1s - loss: 0.2525 - binary_accuracy: 0.5110\n",
      "Epoch 18/300\n",
      " - 1s - loss: 0.2511 - binary_accuracy: 0.5787\n",
      "Epoch 19/300\n",
      " - 1s - loss: 0.2514 - binary_accuracy: 0.4903\n",
      "Epoch 20/300\n",
      " - 1s - loss: 0.2529 - binary_accuracy: 0.4023\n",
      "Epoch 21/300\n",
      " - 1s - loss: 0.2549 - binary_accuracy: 0.4890\n",
      "Epoch 22/300\n",
      " - 1s - loss: 0.2567 - binary_accuracy: 0.4890\n",
      "Epoch 23/300\n",
      " - 1s - loss: 0.2578 - binary_accuracy: 0.4890\n",
      "Epoch 24/300\n",
      " - 1s - loss: 0.2581 - binary_accuracy: 0.4890\n",
      "Epoch 25/300\n",
      " - 1s - loss: 0.2576 - binary_accuracy: 0.4890\n",
      "Epoch 26/300\n",
      " - 1s - loss: 0.2565 - binary_accuracy: 0.4890\n",
      "Epoch 27/300\n",
      " - 1s - loss: 0.2551 - binary_accuracy: 0.4890\n",
      "Epoch 28/300\n",
      " - 1s - loss: 0.2537 - binary_accuracy: 0.4890\n",
      "Epoch 29/300\n",
      " - 1s - loss: 0.2525 - binary_accuracy: 0.4903\n",
      "Epoch 30/300\n",
      " - 1s - loss: 0.2517 - binary_accuracy: 0.4903\n",
      "Epoch 31/300\n",
      " - 1s - loss: 0.2512 - binary_accuracy: 0.4903\n",
      "Epoch 32/300\n",
      " - 1s - loss: 0.2511 - binary_accuracy: 0.4903\n",
      "Epoch 33/300\n",
      " - 1s - loss: 0.2511 - binary_accuracy: 0.5110\n",
      "Epoch 34/300\n",
      " - 1s - loss: 0.2512 - binary_accuracy: 0.5110\n",
      "Epoch 35/300\n",
      " - 1s - loss: 0.2512 - binary_accuracy: 0.5110\n",
      "Epoch 36/300\n",
      " - 1s - loss: 0.2512 - binary_accuracy: 0.5110\n",
      "Epoch 37/300\n",
      " - 1s - loss: 0.2510 - binary_accuracy: 0.5110\n",
      "Epoch 38/300\n",
      " - 1s - loss: 0.2507 - binary_accuracy: 0.5110\n",
      "Epoch 39/300\n",
      " - 1s - loss: 0.2503 - binary_accuracy: 0.5110\n",
      "Epoch 40/300\n",
      " - 1s - loss: 0.2500 - binary_accuracy: 0.5110\n",
      "Epoch 41/300\n",
      " - 1s - loss: 0.2497 - binary_accuracy: 0.5110\n",
      "Epoch 42/300\n",
      " - 1s - loss: 0.2495 - binary_accuracy: 0.5110\n",
      "Epoch 43/300\n",
      " - 1s - loss: 0.2494 - binary_accuracy: 0.4230\n",
      "Epoch 44/300\n",
      " - 1s - loss: 0.2493 - binary_accuracy: 0.5097\n",
      "Epoch 45/300\n",
      " - 1s - loss: 0.2494 - binary_accuracy: 0.5097\n",
      "Epoch 46/300\n",
      " - 1s - loss: 0.2495 - binary_accuracy: 0.5097\n",
      "Epoch 47/300\n",
      " - 1s - loss: 0.2496 - binary_accuracy: 0.5097\n",
      "Epoch 48/300\n",
      " - 1s - loss: 0.2496 - binary_accuracy: 0.5097\n",
      "Epoch 49/300\n",
      " - 1s - loss: 0.2497 - binary_accuracy: 0.5097\n",
      "Epoch 50/300\n",
      " - 1s - loss: 0.2497 - binary_accuracy: 0.5097\n",
      "Epoch 51/300\n",
      " - 1s - loss: 0.2496 - binary_accuracy: 0.5097\n",
      "Epoch 52/300\n",
      " - 1s - loss: 0.2495 - binary_accuracy: 0.5097\n",
      "Epoch 53/300\n",
      " - 1s - loss: 0.2494 - binary_accuracy: 0.5097\n",
      "Epoch 54/300\n",
      " - 1s - loss: 0.2494 - binary_accuracy: 0.5097\n",
      "Epoch 55/300\n",
      " - 1s - loss: 0.2493 - binary_accuracy: 0.5097\n",
      "Epoch 56/300\n",
      " - 1s - loss: 0.2492 - binary_accuracy: 0.5097\n",
      "Epoch 57/300\n",
      " - 1s - loss: 0.2492 - binary_accuracy: 0.5097\n",
      "Epoch 58/300\n",
      " - 1s - loss: 0.2492 - binary_accuracy: 0.5097\n",
      "Epoch 59/300\n",
      " - 1s - loss: 0.2491 - binary_accuracy: 0.5097\n",
      "Epoch 60/300\n",
      " - 1s - loss: 0.2491 - binary_accuracy: 0.4637\n",
      "Epoch 61/300\n",
      " - 1s - loss: 0.2491 - binary_accuracy: 0.4417\n",
      "Epoch 62/300\n",
      " - 1s - loss: 0.2491 - binary_accuracy: 0.4230\n",
      "Epoch 63/300\n",
      " - 1s - loss: 0.2490 - binary_accuracy: 0.4230\n",
      "Epoch 64/300\n",
      " - 1s - loss: 0.2489 - binary_accuracy: 0.4230\n",
      "Epoch 65/300\n",
      " - 1s - loss: 0.2489 - binary_accuracy: 0.4417\n",
      "Epoch 66/300\n",
      " - 1s - loss: 0.2488 - binary_accuracy: 0.4637\n",
      "Epoch 67/300\n",
      " - 1s - loss: 0.2487 - binary_accuracy: 0.4623\n",
      "Epoch 68/300\n",
      " - 1s - loss: 0.2487 - binary_accuracy: 0.5097\n",
      "Epoch 69/300\n",
      " - 1s - loss: 0.2486 - binary_accuracy: 0.5097\n",
      "Epoch 70/300\n",
      " - 1s - loss: 0.2486 - binary_accuracy: 0.5097\n",
      "Epoch 71/300\n",
      " - 1s - loss: 0.2485 - binary_accuracy: 0.5097\n",
      "Epoch 72/300\n",
      " - 1s - loss: 0.2485 - binary_accuracy: 0.5097\n",
      "Epoch 73/300\n",
      " - 1s - loss: 0.2484 - binary_accuracy: 0.5280\n",
      "Epoch 74/300\n",
      " - 1s - loss: 0.2484 - binary_accuracy: 0.5500\n",
      "Epoch 75/300\n",
      " - 1s - loss: 0.2483 - binary_accuracy: 0.5500\n",
      "Epoch 76/300\n",
      " - 1s - loss: 0.2482 - binary_accuracy: 0.5500\n",
      "Epoch 77/300\n",
      " - 1s - loss: 0.2482 - binary_accuracy: 0.5500\n",
      "Epoch 78/300\n",
      " - 1s - loss: 0.2481 - binary_accuracy: 0.5500\n",
      "Epoch 79/300\n",
      " - 1s - loss: 0.2480 - binary_accuracy: 0.5500\n",
      "Epoch 80/300\n",
      " - 1s - loss: 0.2479 - binary_accuracy: 0.5500\n",
      "Epoch 81/300\n",
      " - 1s - loss: 0.2478 - binary_accuracy: 0.5500\n",
      "Epoch 82/300\n",
      " - 1s - loss: 0.2477 - binary_accuracy: 0.5500\n",
      "Epoch 83/300\n",
      " - 1s - loss: 0.2477 - binary_accuracy: 0.5500\n",
      "Epoch 84/300\n",
      " - 1s - loss: 0.2476 - binary_accuracy: 0.5357\n",
      "Epoch 85/300\n",
      " - 1s - loss: 0.2475 - binary_accuracy: 0.5227\n",
      "Epoch 86/300\n",
      " - 1s - loss: 0.2474 - binary_accuracy: 0.5227\n",
      "Epoch 87/300\n",
      " - 1s - loss: 0.2472 - binary_accuracy: 0.5227\n",
      "Epoch 88/300\n",
      " - 1s - loss: 0.2471 - binary_accuracy: 0.5227\n",
      "Epoch 89/300\n",
      " - 1s - loss: 0.2470 - binary_accuracy: 0.5503\n",
      "Epoch 90/300\n",
      " - 1s - loss: 0.2469 - binary_accuracy: 0.5500\n",
      "Epoch 91/300\n",
      " - 1s - loss: 0.2468 - binary_accuracy: 0.5500\n",
      "Epoch 92/300\n",
      " - 1s - loss: 0.2466 - binary_accuracy: 0.5470\n",
      "Epoch 93/300\n",
      " - 1s - loss: 0.2465 - binary_accuracy: 0.5463\n",
      "Epoch 94/300\n",
      " - 1s - loss: 0.2463 - binary_accuracy: 0.5463\n",
      "Epoch 95/300\n",
      " - 1s - loss: 0.2462 - binary_accuracy: 0.5467\n",
      "Epoch 96/300\n",
      " - 1s - loss: 0.2460 - binary_accuracy: 0.5483\n",
      "Epoch 97/300\n",
      " - 1s - loss: 0.2459 - binary_accuracy: 0.5493\n",
      "Epoch 98/300\n",
      " - 1s - loss: 0.2457 - binary_accuracy: 0.5497\n",
      "Epoch 99/300\n",
      " - 1s - loss: 0.2455 - binary_accuracy: 0.5490\n",
      "Epoch 100/300\n",
      " - 1s - loss: 0.2453 - binary_accuracy: 0.5490\n",
      "Epoch 101/300\n",
      " - 1s - loss: 0.2451 - binary_accuracy: 0.5490\n",
      "Epoch 102/300\n",
      " - 1s - loss: 0.2449 - binary_accuracy: 0.5490\n",
      "Epoch 103/300\n",
      " - 1s - loss: 0.2447 - binary_accuracy: 0.5490\n",
      "Epoch 104/300\n",
      " - 1s - loss: 0.2445 - binary_accuracy: 0.5490\n",
      "Epoch 105/300\n",
      " - 1s - loss: 0.2443 - binary_accuracy: 0.5490\n",
      "Epoch 106/300\n",
      " - 1s - loss: 0.2440 - binary_accuracy: 0.5523\n",
      "Epoch 107/300\n",
      " - 1s - loss: 0.2438 - binary_accuracy: 0.5540\n",
      "Epoch 108/300\n",
      " - 1s - loss: 0.2436 - binary_accuracy: 0.5530\n",
      "Epoch 109/300\n",
      " - 1s - loss: 0.2433 - binary_accuracy: 0.5530\n",
      "Epoch 110/300\n",
      " - 1s - loss: 0.2431 - binary_accuracy: 0.5530\n",
      "Epoch 111/300\n",
      " - 1s - loss: 0.2428 - binary_accuracy: 0.5550\n",
      "Epoch 112/300\n",
      " - 1s - loss: 0.2425 - binary_accuracy: 0.5560\n",
      "Epoch 113/300\n",
      " - 1s - loss: 0.2423 - binary_accuracy: 0.5763\n",
      "Epoch 114/300\n",
      " - 1s - loss: 0.2420 - binary_accuracy: 0.5770\n",
      "Epoch 115/300\n",
      " - 1s - loss: 0.2417 - binary_accuracy: 0.5827\n",
      "Epoch 116/300\n",
      " - 1s - loss: 0.2414 - binary_accuracy: 0.5990\n",
      "Epoch 117/300\n",
      " - 1s - loss: 0.2411 - binary_accuracy: 0.6043\n",
      "Epoch 118/300\n",
      " - 1s - loss: 0.2408 - binary_accuracy: 0.6043\n",
      "Epoch 119/300\n",
      " - 1s - loss: 0.2405 - binary_accuracy: 0.6027\n",
      "Epoch 120/300\n",
      " - 1s - loss: 0.2402 - binary_accuracy: 0.6043\n",
      "Epoch 121/300\n",
      " - 1s - loss: 0.2399 - binary_accuracy: 0.6067\n",
      "Epoch 122/300\n",
      " - 1s - loss: 0.2396 - binary_accuracy: 0.6090\n",
      "Epoch 123/300\n",
      " - 1s - loss: 0.2393 - binary_accuracy: 0.6137\n",
      "Epoch 124/300\n",
      " - 1s - loss: 0.2390 - binary_accuracy: 0.6197\n",
      "Epoch 125/300\n",
      " - 1s - loss: 0.2387 - binary_accuracy: 0.6200\n",
      "Epoch 126/300\n",
      " - 1s - loss: 0.2384 - binary_accuracy: 0.6197\n",
      "Epoch 127/300\n",
      " - 1s - loss: 0.2381 - binary_accuracy: 0.6213\n",
      "Epoch 128/300\n",
      " - 1s - loss: 0.2378 - binary_accuracy: 0.6220\n",
      "Epoch 129/300\n",
      " - 1s - loss: 0.2375 - binary_accuracy: 0.6253\n",
      "Epoch 130/300\n",
      " - 1s - loss: 0.2372 - binary_accuracy: 0.6253\n",
      "Epoch 131/300\n",
      " - 1s - loss: 0.2369 - binary_accuracy: 0.6260\n",
      "Epoch 132/300\n",
      " - 1s - loss: 0.2366 - binary_accuracy: 0.6283\n",
      "Epoch 133/300\n",
      " - 1s - loss: 0.2363 - binary_accuracy: 0.6297\n",
      "Epoch 134/300\n",
      " - 1s - loss: 0.2360 - binary_accuracy: 0.6377\n",
      "Epoch 135/300\n",
      " - 1s - loss: 0.2357 - binary_accuracy: 0.6380\n",
      "Epoch 136/300\n",
      " - 1s - loss: 0.2354 - binary_accuracy: 0.6387\n",
      "Epoch 137/300\n"
     ]
    },
    {
     "name": "stdout",
     "output_type": "stream",
     "text": [
      " - 1s - loss: 0.2351 - binary_accuracy: 0.6387\n",
      "Epoch 138/300\n",
      " - 1s - loss: 0.2348 - binary_accuracy: 0.6447\n",
      "Epoch 139/300\n",
      " - 1s - loss: 0.2345 - binary_accuracy: 0.6447\n",
      "Epoch 140/300\n",
      " - 1s - loss: 0.2343 - binary_accuracy: 0.6447\n",
      "Epoch 141/300\n",
      " - 1s - loss: 0.2340 - binary_accuracy: 0.6507\n",
      "Epoch 142/300\n",
      " - 1s - loss: 0.2337 - binary_accuracy: 0.6530\n",
      "Epoch 143/300\n",
      " - 1s - loss: 0.2334 - binary_accuracy: 0.6553\n",
      "Epoch 144/300\n",
      " - 1s - loss: 0.2332 - binary_accuracy: 0.6573\n",
      "Epoch 145/300\n",
      " - 1s - loss: 0.2329 - binary_accuracy: 0.6600\n",
      "Epoch 146/300\n",
      " - 1s - loss: 0.2326 - binary_accuracy: 0.6657\n",
      "Epoch 147/300\n",
      " - 1s - loss: 0.2324 - binary_accuracy: 0.6657\n",
      "Epoch 148/300\n",
      " - 1s - loss: 0.2321 - binary_accuracy: 0.6657\n",
      "Epoch 149/300\n",
      " - 1s - loss: 0.2319 - binary_accuracy: 0.6657\n",
      "Epoch 150/300\n",
      " - 1s - loss: 0.2317 - binary_accuracy: 0.6657\n",
      "Epoch 151/300\n",
      " - 1s - loss: 0.2314 - binary_accuracy: 0.6657\n",
      "Epoch 152/300\n",
      " - 1s - loss: 0.2312 - binary_accuracy: 0.6657\n",
      "Epoch 153/300\n",
      " - 1s - loss: 0.2310 - binary_accuracy: 0.6657\n",
      "Epoch 154/300\n",
      " - 1s - loss: 0.2308 - binary_accuracy: 0.6657\n",
      "Epoch 155/300\n",
      " - 1s - loss: 0.2305 - binary_accuracy: 0.6657\n",
      "Epoch 156/300\n",
      " - 1s - loss: 0.2303 - binary_accuracy: 0.6657\n",
      "Epoch 157/300\n",
      " - 1s - loss: 0.2301 - binary_accuracy: 0.6657\n",
      "Epoch 158/300\n",
      " - 1s - loss: 0.2299 - binary_accuracy: 0.6657\n",
      "Epoch 159/300\n",
      " - 1s - loss: 0.2297 - binary_accuracy: 0.6657\n",
      "Epoch 160/300\n",
      " - 1s - loss: 0.2295 - binary_accuracy: 0.6657\n",
      "Epoch 161/300\n",
      " - 1s - loss: 0.2293 - binary_accuracy: 0.6657\n",
      "Epoch 162/300\n",
      " - 1s - loss: 0.2292 - binary_accuracy: 0.6657\n",
      "Epoch 163/300\n",
      " - 1s - loss: 0.2290 - binary_accuracy: 0.6657\n",
      "Epoch 164/300\n",
      " - 1s - loss: 0.2288 - binary_accuracy: 0.6657\n",
      "Epoch 165/300\n",
      " - 1s - loss: 0.2286 - binary_accuracy: 0.6657\n",
      "Epoch 166/300\n",
      " - 1s - loss: 0.2285 - binary_accuracy: 0.6657\n",
      "Epoch 167/300\n",
      " - 1s - loss: 0.2283 - binary_accuracy: 0.6657\n",
      "Epoch 168/300\n",
      " - 1s - loss: 0.2281 - binary_accuracy: 0.6657\n",
      "Epoch 169/300\n",
      " - 1s - loss: 0.2280 - binary_accuracy: 0.6657\n",
      "Epoch 170/300\n",
      " - 1s - loss: 0.2278 - binary_accuracy: 0.6657\n",
      "Epoch 171/300\n",
      " - 1s - loss: 0.2277 - binary_accuracy: 0.6657\n",
      "Epoch 172/300\n",
      " - 1s - loss: 0.2275 - binary_accuracy: 0.6657\n",
      "Epoch 173/300\n",
      " - 1s - loss: 0.2274 - binary_accuracy: 0.6543\n",
      "Epoch 174/300\n",
      " - 1s - loss: 0.2272 - binary_accuracy: 0.6507\n",
      "Epoch 175/300\n",
      " - 1s - loss: 0.2271 - binary_accuracy: 0.6507\n",
      "Epoch 176/300\n",
      " - 1s - loss: 0.2270 - binary_accuracy: 0.6417\n",
      "Epoch 177/300\n",
      " - 1s - loss: 0.2268 - binary_accuracy: 0.6417\n",
      "Epoch 178/300\n",
      " - 1s - loss: 0.2267 - binary_accuracy: 0.6417\n",
      "Epoch 179/300\n",
      " - 1s - loss: 0.2266 - binary_accuracy: 0.6417\n",
      "Epoch 180/300\n",
      " - 1s - loss: 0.2264 - binary_accuracy: 0.6443\n",
      "Epoch 181/300\n",
      " - 1s - loss: 0.2263 - binary_accuracy: 0.6450\n",
      "Epoch 182/300\n",
      " - 1s - loss: 0.2262 - binary_accuracy: 0.6470\n",
      "Epoch 183/300\n",
      " - 1s - loss: 0.2261 - binary_accuracy: 0.6470\n",
      "Epoch 184/300\n",
      " - 1s - loss: 0.2259 - binary_accuracy: 0.6470\n",
      "Epoch 185/300\n",
      " - 1s - loss: 0.2258 - binary_accuracy: 0.6470\n",
      "Epoch 186/300\n",
      " - 1s - loss: 0.2257 - binary_accuracy: 0.6470\n",
      "Epoch 187/300\n",
      " - 1s - loss: 0.2256 - binary_accuracy: 0.6470\n",
      "Epoch 188/300\n",
      " - 1s - loss: 0.2255 - binary_accuracy: 0.6470\n",
      "Epoch 189/300\n",
      " - 1s - loss: 0.2254 - binary_accuracy: 0.6470\n",
      "Epoch 190/300\n",
      " - 1s - loss: 0.2253 - binary_accuracy: 0.6470\n",
      "Epoch 191/300\n",
      " - 1s - loss: 0.2251 - binary_accuracy: 0.6470\n",
      "Epoch 192/300\n",
      " - 1s - loss: 0.2250 - binary_accuracy: 0.6470\n",
      "Epoch 193/300\n",
      " - 1s - loss: 0.2249 - binary_accuracy: 0.6470\n",
      "Epoch 194/300\n",
      " - 1s - loss: 0.2248 - binary_accuracy: 0.6470\n",
      "Epoch 195/300\n",
      " - 1s - loss: 0.2247 - binary_accuracy: 0.6470\n",
      "Epoch 196/300\n",
      " - 1s - loss: 0.2246 - binary_accuracy: 0.6470\n",
      "Epoch 197/300\n",
      " - 1s - loss: 0.2245 - binary_accuracy: 0.6470\n",
      "Epoch 198/300\n",
      " - 1s - loss: 0.2244 - binary_accuracy: 0.6470\n",
      "Epoch 199/300\n",
      " - 1s - loss: 0.2243 - binary_accuracy: 0.6470\n",
      "Epoch 200/300\n",
      " - 1s - loss: 0.2242 - binary_accuracy: 0.6470\n",
      "Epoch 201/300\n",
      " - 1s - loss: 0.2241 - binary_accuracy: 0.6470\n",
      "Epoch 202/300\n",
      " - 1s - loss: 0.2240 - binary_accuracy: 0.6470\n",
      "Epoch 203/300\n",
      " - 1s - loss: 0.2239 - binary_accuracy: 0.6470\n",
      "Epoch 204/300\n",
      " - 1s - loss: 0.2238 - binary_accuracy: 0.6470\n",
      "Epoch 205/300\n",
      " - 1s - loss: 0.2237 - binary_accuracy: 0.6470\n",
      "Epoch 206/300\n",
      " - 1s - loss: 0.2236 - binary_accuracy: 0.6470\n",
      "Epoch 207/300\n",
      " - 1s - loss: 0.2235 - binary_accuracy: 0.6470\n",
      "Epoch 208/300\n",
      " - 1s - loss: 0.2234 - binary_accuracy: 0.6470\n",
      "Epoch 209/300\n",
      " - 1s - loss: 0.2233 - binary_accuracy: 0.6470\n",
      "Epoch 210/300\n",
      " - 1s - loss: 0.2232 - binary_accuracy: 0.6470\n",
      "Epoch 211/300\n",
      " - 1s - loss: 0.2231 - binary_accuracy: 0.6470\n",
      "Epoch 212/300\n",
      " - 1s - loss: 0.2230 - binary_accuracy: 0.6470\n",
      "Epoch 213/300\n",
      " - 1s - loss: 0.2229 - binary_accuracy: 0.6470\n",
      "Epoch 214/300\n",
      " - 1s - loss: 0.2228 - binary_accuracy: 0.6470\n",
      "Epoch 215/300\n",
      " - 1s - loss: 0.2227 - binary_accuracy: 0.6470\n",
      "Epoch 216/300\n",
      " - 1s - loss: 0.2226 - binary_accuracy: 0.6470\n",
      "Epoch 217/300\n",
      " - 1s - loss: 0.2225 - binary_accuracy: 0.6470\n",
      "Epoch 218/300\n",
      " - 1s - loss: 0.2224 - binary_accuracy: 0.6470\n",
      "Epoch 219/300\n",
      " - 1s - loss: 0.2223 - binary_accuracy: 0.6470\n",
      "Epoch 220/300\n",
      " - 1s - loss: 0.2222 - binary_accuracy: 0.6470\n",
      "Epoch 221/300\n",
      " - 1s - loss: 0.2220 - binary_accuracy: 0.6470\n",
      "Epoch 222/300\n",
      " - 1s - loss: 0.2219 - binary_accuracy: 0.6470\n",
      "Epoch 223/300\n",
      " - 1s - loss: 0.2218 - binary_accuracy: 0.6470\n",
      "Epoch 224/300\n",
      " - 1s - loss: 0.2217 - binary_accuracy: 0.6470\n",
      "Epoch 225/300\n",
      " - 1s - loss: 0.2216 - binary_accuracy: 0.6470\n",
      "Epoch 226/300\n",
      " - 1s - loss: 0.2215 - binary_accuracy: 0.6470\n",
      "Epoch 227/300\n",
      " - 1s - loss: 0.2213 - binary_accuracy: 0.6470\n",
      "Epoch 228/300\n",
      " - 1s - loss: 0.2212 - binary_accuracy: 0.6483\n",
      "Epoch 229/300\n",
      " - 1s - loss: 0.2211 - binary_accuracy: 0.6483\n",
      "Epoch 230/300\n",
      " - 1s - loss: 0.2209 - binary_accuracy: 0.6487\n",
      "Epoch 231/300\n",
      " - 1s - loss: 0.2208 - binary_accuracy: 0.6490\n",
      "Epoch 232/300\n",
      " - 1s - loss: 0.2206 - binary_accuracy: 0.6487\n",
      "Epoch 233/300\n",
      " - 1s - loss: 0.2205 - binary_accuracy: 0.6480\n",
      "Epoch 234/300\n",
      " - 1s - loss: 0.2203 - binary_accuracy: 0.6477\n",
      "Epoch 235/300\n",
      " - 1s - loss: 0.2201 - binary_accuracy: 0.6477\n",
      "Epoch 236/300\n",
      " - 1s - loss: 0.2200 - binary_accuracy: 0.6480\n",
      "Epoch 237/300\n",
      " - 1s - loss: 0.2198 - binary_accuracy: 0.6503\n",
      "Epoch 238/300\n",
      " - 1s - loss: 0.2196 - binary_accuracy: 0.6513\n",
      "Epoch 239/300\n",
      " - 1s - loss: 0.2193 - binary_accuracy: 0.6530\n",
      "Epoch 240/300\n",
      " - 1s - loss: 0.2191 - binary_accuracy: 0.6547\n",
      "Epoch 241/300\n",
      " - 1s - loss: 0.2188 - binary_accuracy: 0.6590\n",
      "Epoch 242/300\n",
      " - 1s - loss: 0.2185 - binary_accuracy: 0.6613\n",
      "Epoch 243/300\n",
      " - 1s - loss: 0.2181 - binary_accuracy: 0.6613\n",
      "Epoch 244/300\n",
      " - 1s - loss: 0.2177 - binary_accuracy: 0.6627\n",
      "Epoch 245/300\n",
      " - 1s - loss: 0.2173 - binary_accuracy: 0.6590\n",
      "Epoch 246/300\n",
      " - 1s - loss: 0.2167 - binary_accuracy: 0.6613\n",
      "Epoch 247/300\n",
      " - 1s - loss: 0.2161 - binary_accuracy: 0.6617\n",
      "Epoch 248/300\n",
      " - 1s - loss: 0.2154 - binary_accuracy: 0.6623\n",
      "Epoch 249/300\n",
      " - 1s - loss: 0.2146 - binary_accuracy: 0.6640\n",
      "Epoch 250/300\n",
      " - 1s - loss: 0.2137 - binary_accuracy: 0.6653\n",
      "Epoch 251/300\n",
      " - 1s - loss: 0.2127 - binary_accuracy: 0.6647\n",
      "Epoch 252/300\n",
      " - 1s - loss: 0.2117 - binary_accuracy: 0.6627\n",
      "Epoch 253/300\n",
      " - 1s - loss: 0.2109 - binary_accuracy: 0.6637\n",
      "Epoch 254/300\n",
      " - 1s - loss: 0.2103 - binary_accuracy: 0.6590\n",
      "Epoch 255/300\n",
      " - 1s - loss: 0.2099 - binary_accuracy: 0.6600\n",
      "Epoch 256/300\n",
      " - 1s - loss: 0.2094 - binary_accuracy: 0.6620\n",
      "Epoch 257/300\n",
      " - 1s - loss: 0.2088 - binary_accuracy: 0.6607\n",
      "Epoch 258/300\n",
      " - 1s - loss: 0.2084 - binary_accuracy: 0.6617\n",
      "Epoch 259/300\n",
      " - 1s - loss: 0.2083 - binary_accuracy: 0.6640\n",
      "Epoch 260/300\n",
      " - 1s - loss: 0.2080 - binary_accuracy: 0.6607\n",
      "Epoch 261/300\n",
      " - 1s - loss: 0.2081 - binary_accuracy: 0.6637\n",
      "Epoch 262/300\n",
      " - 1s - loss: 0.2080 - binary_accuracy: 0.6640\n",
      "Epoch 263/300\n",
      " - 1s - loss: 0.2078 - binary_accuracy: 0.6643\n",
      "Epoch 264/300\n",
      " - 1s - loss: 0.2074 - binary_accuracy: 0.6623\n",
      "Epoch 265/300\n",
      " - 1s - loss: 0.2072 - binary_accuracy: 0.6630\n",
      "Epoch 266/300\n",
      " - 1s - loss: 0.2071 - binary_accuracy: 0.6637\n",
      "Epoch 267/300\n",
      " - 1s - loss: 0.2071 - binary_accuracy: 0.6640\n",
      "Epoch 268/300\n",
      " - 1s - loss: 0.2070 - binary_accuracy: 0.6637\n",
      "Epoch 269/300\n",
      " - 1s - loss: 0.2071 - binary_accuracy: 0.6647\n",
      "Epoch 270/300\n",
      " - 1s - loss: 0.2071 - binary_accuracy: 0.6647\n",
      "Epoch 271/300\n",
      " - 1s - loss: 0.2069 - binary_accuracy: 0.6647\n"
     ]
    },
    {
     "name": "stdout",
     "output_type": "stream",
     "text": [
      "Epoch 272/300\n",
      " - 1s - loss: 0.2068 - binary_accuracy: 0.6650\n",
      "Epoch 273/300\n",
      " - 1s - loss: 0.2067 - binary_accuracy: 0.6660\n",
      "Epoch 274/300\n",
      " - 1s - loss: 0.2068 - binary_accuracy: 0.6663\n",
      "Epoch 275/300\n",
      " - 1s - loss: 0.2067 - binary_accuracy: 0.6667\n",
      "Epoch 276/300\n",
      " - 1s - loss: 0.2066 - binary_accuracy: 0.6667\n",
      "Epoch 277/300\n",
      " - 1s - loss: 0.2066 - binary_accuracy: 0.6673\n",
      "Epoch 278/300\n",
      " - 1s - loss: 0.2066 - binary_accuracy: 0.6680\n",
      "Epoch 279/300\n",
      " - 1s - loss: 0.2066 - binary_accuracy: 0.6667\n",
      "Epoch 280/300\n",
      " - 1s - loss: 0.2064 - binary_accuracy: 0.6663\n",
      "Epoch 281/300\n",
      " - 1s - loss: 0.2064 - binary_accuracy: 0.6663\n",
      "Epoch 282/300\n",
      " - 1s - loss: 0.2064 - binary_accuracy: 0.6660\n",
      "Epoch 283/300\n",
      " - 1s - loss: 0.2064 - binary_accuracy: 0.6660\n",
      "Epoch 284/300\n",
      " - 1s - loss: 0.2063 - binary_accuracy: 0.6660\n",
      "Epoch 285/300\n",
      " - 1s - loss: 0.2062 - binary_accuracy: 0.6653\n",
      "Epoch 286/300\n",
      " - 1s - loss: 0.2062 - binary_accuracy: 0.6657\n",
      "Epoch 287/300\n",
      " - 1s - loss: 0.2062 - binary_accuracy: 0.6657\n",
      "Epoch 288/300\n",
      " - 1s - loss: 0.2061 - binary_accuracy: 0.6653\n",
      "Epoch 289/300\n",
      " - 1s - loss: 0.2061 - binary_accuracy: 0.6667\n",
      "Epoch 290/300\n",
      " - 1s - loss: 0.2061 - binary_accuracy: 0.6657\n",
      "Epoch 291/300\n",
      " - 1s - loss: 0.2061 - binary_accuracy: 0.6663\n",
      "Epoch 292/300\n",
      " - 1s - loss: 0.2060 - binary_accuracy: 0.6657\n",
      "Epoch 293/300\n",
      " - 1s - loss: 0.2060 - binary_accuracy: 0.6663\n",
      "Epoch 294/300\n",
      " - 1s - loss: 0.2060 - binary_accuracy: 0.6660\n",
      "Epoch 295/300\n",
      " - 1s - loss: 0.2060 - binary_accuracy: 0.6657\n",
      "Epoch 296/300\n",
      " - 1s - loss: 0.2060 - binary_accuracy: 0.6657\n",
      "Epoch 297/300\n",
      " - 1s - loss: 0.2059 - binary_accuracy: 0.6657\n",
      "Epoch 298/300\n",
      " - 1s - loss: 0.2059 - binary_accuracy: 0.6667\n",
      "Epoch 299/300\n",
      " - 1s - loss: 0.2059 - binary_accuracy: 0.6660\n",
      "Epoch 300/300\n",
      " - 1s - loss: 0.2059 - binary_accuracy: 0.6660\n"
     ]
    }
   ],
   "source": [
    "history = model.fit(X, y, epochs=300, verbose=2)"
   ]
  },
  {
   "cell_type": "code",
   "execution_count": 44,
   "metadata": {},
   "outputs": [
    {
     "name": "stdout",
     "output_type": "stream",
     "text": [
      "[[1.008228  2.1196685]\n",
      " [1.0401969 2.2887452]] [-1.4729971  -0.73707575]\n"
     ]
    }
   ],
   "source": [
    "weights =model.get_weights()\n",
    "print(weights1, weights2)"
   ]
  },
  {
   "cell_type": "markdown",
   "metadata": {
    "id": "1mYdoRsijsJX"
   },
   "source": [
    "Plot the loss and accuracy progression of the model's training by using  the `loss` and `binary_accuracy` keys of dictionary `history.history` like before. What is the final accuracy of the model?"
   ]
  },
  {
   "cell_type": "markdown",
   "metadata": {},
   "source": [
    "The final accuracy is of 0.662"
   ]
  },
  {
   "cell_type": "code",
   "execution_count": 45,
   "metadata": {},
   "outputs": [
    {
     "name": "stdout",
     "output_type": "stream",
     "text": [
      "dict_keys(['loss', 'binary_accuracy'])\n"
     ]
    }
   ],
   "source": [
    "# list all data in history\n",
    "print(history.history.keys())"
   ]
  },
  {
   "cell_type": "code",
   "execution_count": 46,
   "metadata": {},
   "outputs": [
    {
     "data": {
      "image/png": "[encoded data removed]",
      "text/plain": [
       "<Figure size 432x288 with 1 Axes>"
      ]
     },
     "metadata": {
      "needs_background": "light"
     },
     "output_type": "display_data"
    },
    {
     "data": {
      "image/png": "[encoded data removed]",
      "text/plain": [
       "<Figure size 432x288 with 1 Axes>"
      ]
     },
     "metadata": {
      "needs_background": "light"
     },
     "output_type": "display_data"
    }
   ],
   "source": [
    "plt.plot(history.history['loss'], color=\"blue\")\n",
    "plt.title('Model loss (lower is better)')\n",
    "plt.ylabel('Mean Squared Error')\n",
    "plt.xlabel('Epoch')\n",
    "plt.show()\n",
    "\n",
    "plt.plot(history.history['binary_accuracy'],color=\"blue\")\n",
    "plt.title('Model accuracy (higher is better)')\n",
    "plt.ylabel('Accuracy')\n",
    "plt.xlabel('Epoch')\n",
    "plt.show()"
   ]
  },
  {
   "cell_type": "markdown",
   "metadata": {
    "id": "0c0_CJvljsJX"
   },
   "source": [
    "## Exercise 3"
   ]
  },
  {
   "cell_type": "markdown",
   "metadata": {
    "id": "0c0_CJvljsJX"
   },
   "source": [
    "**A) Draw the architecture diagram of the SRN that solves the XOR problem. You can represent connections from one layer to another by a single arrow.**"
   ]
  },
  {
   "cell_type": "markdown",
   "metadata": {},
   "source": [
    "<img src=\"Data/5.png\">"
   ]
  },
  {
   "cell_type": "markdown",
   "metadata": {
    "id": "0c0_CJvljsJX"
   },
   "source": [
    "**B) It turns out that the accuracy will not get higher than 0.66. Why specifically this number (HINT: What is theoretically possible? You can see for yourself by writing out some data and trying to guess yourself what the next input will be.) Explain your answer.**"
   ]
  },
  {
   "cell_type": "markdown",
   "metadata": {},
   "source": [
    "This is because every 3 outputs, one is correct because the network recognice the sequence (input sequence) and the others 2 are one correct by the 50% chance. 0.66 = 2/3\n"
   ]
  },
  {
   "cell_type": "markdown",
   "metadata": {
    "id": "0c0_CJvljsJX"
   },
   "source": [
    "**C) This is a weird way to model XOR. But it was very important for Elman to do it this way. Why? Explain your answer.**"
   ]
  },
  {
   "cell_type": "markdown",
   "metadata": {},
   "source": [
    "The advantage of this approach is that the network can take inputs of any length, without having to alter the network architecture at all."
   ]
  },
  {
   "cell_type": "markdown",
   "metadata": {
    "id": "PLLvdwk3jsJY"
   },
   "source": [
    "## Network analysis"
   ]
  },
  {
   "cell_type": "code",
   "execution_count": 47,
   "metadata": {
    "colab": {
     "base_uri": "https://localhost:8080/",
     "height": 296
    },
    "id": "bquv4O5PjsJZ",
    "outputId": "86da4f33-71df-49cc-c72e-58d46837060d"
   },
   "outputs": [],
   "source": [
    "from plot_functions import plot_weight_matrix, plot_activation_matrix"
   ]
  },
  {
   "cell_type": "markdown",
   "metadata": {
    "id": "MLu7-qq7jsJd"
   },
   "source": [
    "This network is still quite simple, so let's look at the fitted weights."
   ]
  },
  {
   "cell_type": "code",
   "execution_count": 48,
   "metadata": {
    "colab": {
     "base_uri": "https://localhost:8080/",
     "height": 162
    },
    "id": "Sm72bucbjsJd",
    "outputId": "42e7e80b-4f28-4133-cd91-a4847c94428a"
   },
   "outputs": [
    {
     "data": {
      "image/png": "[encoded data removed]",
      "text/plain": [
       "<Figure size 432x288 with 2 Axes>"
      ]
     },
     "metadata": {
      "needs_background": "light"
     },
     "output_type": "display_data"
    }
   ],
   "source": [
    "plot_weight_matrix(model)"
   ]
  },
  {
   "cell_type": "markdown",
   "metadata": {
    "id": "VoNTwe_AjsJg"
   },
   "source": [
    "Can you make sense of the weights and what it does? We can make analysis a bit easier by looking the activations of a subset of our data. In the following heatmap, you can see the input values and corresponding target outputs on the y-axis. The actual outputs are in the final column."
   ]
  },
  {
   "cell_type": "markdown",
   "metadata": {},
   "source": [
    "### Answer:\n",
    "\n",
    "It makes sense, this way if just one of the inputs is one the activation function will fire, althought if noone or the two, the activation function will not"
   ]
  },
  {
   "cell_type": "code",
   "execution_count": 49,
   "metadata": {
    "id": "qxOQUhxWjsJh"
   },
   "outputs": [
    {
     "data": {
      "image/png": "[encoded data removed]",
      "text/plain": [
       "<Figure size 720x576 with 2 Axes>"
      ]
     },
     "metadata": {
      "needs_background": "light"
     },
     "output_type": "display_data"
    }
   ],
   "source": [
    "plt.figure(figsize=(10,8))\n",
    "plot_activation_matrix(model, X, y,\n",
    "                       subset=(0, slice(0, 12), slice(None)),\n",
    "                       vmin=0, vmax=1)"
   ]
  },
  {
   "cell_type": "markdown",
   "metadata": {
    "id": "ciHL3ESFjsJj"
   },
   "source": [
    "The `subset` argument allows us to take a subset of our data using the Python `slice` function. We take only the first item of the inputs (`0`), the first 12 time steps (`slice(0, 12)`) and all input/output dimensions (`slice(None)`).\n",
    "\n",
    "Of every three consecutive time steps, every second output should be correct since that output is the XOR of the current and previous input. We can make seeing this easier by just looking at the output layer activations and only the predictable time steps:"
   ]
  },
  {
   "cell_type": "code",
   "execution_count": 50,
   "metadata": {
    "id": "vWt-c-fojsJk"
   },
   "outputs": [
    {
     "data": {
      "image/png": "[encoded data removed]",
      "text/plain": [
       "<Figure size 720x576 with 2 Axes>"
      ]
     },
     "metadata": {
      "needs_background": "light"
     },
     "output_type": "display_data"
    }
   ],
   "source": [
    "plt.figure(figsize=(10,8))\n",
    "plot_activation_matrix(model, X, y, layers=[model.layers[1]],\n",
    "                       subset=(0, slice(1, 25, 3), slice(None)),\n",
    "                       vmin=0, vmax=1)"
   ]
  },
  {
   "cell_type": "markdown",
   "metadata": {
    "id": "gN1qKRavjsJn"
   },
   "source": [
    "If your model gets optimal results, i.e. gets close to an accuracy of 0.66, the model's output will always be correct with respect to the target output. Look at the second value between brackets on the left hand side. This indicates that the network applies XOR on these items. What does the network do with the other two items, which are not predictable?\n",
    "\n",
    "This network shows that neural networks are able to find structure in data, even though two thirds of the data is unpredictable."
   ]
  },
  {
   "cell_type": "markdown",
   "metadata": {
    "id": "46nfGrHkjsJo"
   },
   "source": [
    "## Exercise 4 "
   ]
  },
  {
   "cell_type": "markdown",
   "metadata": {
    "id": "46nfGrHkjsJo"
   },
   "source": [
    "**A) Report the connection weights for the SRN after the training. Are they negative or positive?**"
   ]
  },
  {
   "cell_type": "code",
   "execution_count": 51,
   "metadata": {},
   "outputs": [
    {
     "name": "stdout",
     "output_type": "stream",
     "text": [
      "[array([[-1.6463649, -2.9445367]], dtype=float32)\n",
      " array([[-1.5029979 , -1.7470353 ],\n",
      "       [ 1.1118759 , -0.23839073]], dtype=float32)\n",
      " array([ 2.3061292 , -0.12004864], dtype=float32)]\n"
     ]
    }
   ],
   "source": [
    "print(np.array(model.layers[0].get_weights()))"
   ]
  },
  {
   "cell_type": "markdown",
   "metadata": {},
   "source": [
    "They are positive"
   ]
  },
  {
   "cell_type": "markdown",
   "metadata": {
    "id": "46nfGrHkjsJo"
   },
   "source": [
    "**B) How can you see if the network has learned to predict XOR? Explain where you see how well the network is doing. (Hint: read the bottom of page 186-187 in Elman 1990.)**"
   ]
  },
  {
   "cell_type": "markdown",
   "metadata": {},
   "source": [
    "When the network recognized a temporal sequence its outputs exhibit low error. This is an indication that the network has learned something about the temporal structure of the input, and is able to use previous context and current input to make predictions about future input."
   ]
  },
  {
   "cell_type": "markdown",
   "metadata": {
    "id": "46nfGrHkjsJo"
   },
   "source": [
    "**C) How does the network eventually solve the problem? Explain your answer.**"
   ]
  },
  {
   "cell_type": "code",
   "execution_count": null,
   "metadata": {},
   "outputs": [],
   "source": []
  },
  {
   "cell_type": "markdown",
   "metadata": {
    "id": "M1pA256FjsJp"
   },
   "source": [
    "# Part 3: Modelling Simple Sentences with Simple Recurrent Neural Networks\n",
    "\n",
    "The previous tutorial showed that simple RNNs are able to find structure in sequential data, even though the structure is not deterministic. Elman (1990) took this a step further in his final experiment in which he trained a simple RNN on a sequence of generated English sentences. Let's reproduce his original experiment to see for ourselves that it worked. \n",
    "\n",
    "\n",
    "_Elman, J. L. (1990). Finding structure in time. Cognitive science, 14(2), 179-211._"
   ]
  },
  {
   "cell_type": "markdown",
   "metadata": {
    "id": "yKrkE1crjsJq"
   },
   "source": [
    "## Data generation\n",
    "\n",
    "Use the small python program `sentence_generator.py` provided as part of the Lab on Nestor to generate the training set. This program follows the details that are described by Elman (1990) as closely as possible. (Tip: read the paper!) Just like in the original experiment, we will be using a concatenation of 10,000 random 2-3 word sentences without any sentence boundaries. The 29 unique words are one-hot-encoded (like Elman did!) with two extra bits that are always zero."
   ]
  },
  {
   "cell_type": "code",
   "execution_count": 56,
   "metadata": {
    "id": "694gXFJsjsJs"
   },
   "outputs": [],
   "source": [
    "import sentence_generator\n",
    "from sentence_generator import generate_sentences\n",
    "from sklearn.preprocessing import LabelBinarizer"
   ]
  },
  {
   "cell_type": "code",
   "execution_count": 58,
   "metadata": {
    "id": "_6ngrTHQjsJv"
   },
   "outputs": [],
   "source": [
    "sents = generate_sentences(10000)\n",
    "words = [word for words in sents for word in words]"
   ]
  },
  {
   "cell_type": "markdown",
   "metadata": {
    "id": "k4viB8SKjsJz"
   },
   "source": [
    "What do these sentences look like?"
   ]
  },
  {
   "cell_type": "code",
   "execution_count": 59,
   "metadata": {
    "id": "A3s4DD3fjsJ0"
   },
   "outputs": [
    {
     "data": {
      "text/plain": [
       "[['mouse', 'move', 'cat'],\n",
       " ['man', 'break', 'sandwich'],\n",
       " ['lion', 'eat', 'sandwich'],\n",
       " ['man', 'eat', 'sandwich'],\n",
       " ['woman', 'break'],\n",
       " ['girl', 'break', 'cookie'],\n",
       " ['dragon', 'break', 'cookie'],\n",
       " ['girl', 'move', 'cookie']]"
      ]
     },
     "execution_count": 59,
     "metadata": {},
     "output_type": "execute_result"
    }
   ],
   "source": [
    "sents[:8]"
   ]
  },
  {
   "cell_type": "markdown",
   "metadata": {
    "id": "F76_I5-mjsJ2"
   },
   "source": [
    "These seem like decent simple sentences. But remember that the actual data is a concatenation of these sentences:"
   ]
  },
  {
   "cell_type": "code",
   "execution_count": 60,
   "metadata": {
    "colab": {
     "base_uri": "https://localhost:8080/"
    },
    "id": "XTHVNp4zjsJ3",
    "outputId": "d00e3c45-7d2f-4948-e1a1-325c02d4abeb"
   },
   "outputs": [
    {
     "data": {
      "text/plain": [
       "['mouse', 'move', 'cat', 'man', 'break', 'sandwich', 'lion', 'eat']"
      ]
     },
     "execution_count": 60,
     "metadata": {},
     "output_type": "execute_result"
    }
   ],
   "source": [
    "words[:8]"
   ]
  },
  {
   "cell_type": "markdown",
   "metadata": {
    "id": "sLOSPb2LjsJ5"
   },
   "source": [
    "Now we have to encode the data so that our simple RNN can process it."
   ]
  },
  {
   "cell_type": "code",
   "execution_count": 61,
   "metadata": {
    "id": "OdwSOzsyjsJ6"
   },
   "outputs": [
    {
     "data": {
      "text/plain": [
       "((1, 27532, 31), (1, 27532, 31))"
      ]
     },
     "execution_count": 61,
     "metadata": {},
     "output_type": "execute_result"
    }
   ],
   "source": [
    "all_words = list(set(words)) + ['zog', 'zog2']\n",
    "\n",
    "# Use one-hot-encoding to assign a unique input unit to each word\n",
    "encoder = LabelBinarizer()\n",
    "encoder.fit(all_words)\n",
    "word_data = encoder.transform(words)\n",
    "\n",
    "# The first axis will have size 1, just like the previous tutorial\n",
    "X = word_data[np.newaxis, :]\n",
    "y = np.append(word_data[1:], word_data[:1], axis=0)[np.newaxis, :]\n",
    "\n",
    "X.shape, y.shape"
   ]
  },
  {
   "cell_type": "markdown",
   "metadata": {
    "id": "4q_rX_wujsJ-"
   },
   "source": [
    "`X` and `y` both have the correct shape, so we can now create the network."
   ]
  },
  {
   "cell_type": "markdown",
   "metadata": {
    "id": "RSa0GuY0jsJ-"
   },
   "source": [
    "## Model definition\n",
    "\n",
    "Now you will create a network that is very similar to the sequential XOR SRN, but follows the architecture choices of Elman."
   ]
  },
  {
   "cell_type": "code",
   "execution_count": 62,
   "metadata": {
    "id": "VMFh3s9sjsJ_"
   },
   "outputs": [],
   "source": [
    "# complete code here\n",
    "\n",
    "model = Sequential([\n",
    "    SimpleRNN(128, input_shape =(None,31), return_sequences=True, activation='tanh', name='hidden'),\n",
    "    TimeDistributed(Dense(31, activation='softmax', name='output'))\n",
    "])"
   ]
  },
  {
   "cell_type": "markdown",
   "metadata": {
    "id": "h-y0m-IejsKD"
   },
   "source": [
    "The important differences between the sequential XOR SRN and this network are:\n",
    " * Greater number of hidden units (how  many?), which enables the network to learn more complex information.\n",
    " * The input shape can be defined as `(None, 31)`. The `None` value indicates that the network works with any number of time steps. Just like the output, the input must be 31-dimensional.\n",
    " * We use the `softmax` activation function in the final layer. This is the recommended choice for the output layer if the output is categorical (which it is).\n",
    " * The loss function is `categorical_crossentropy` for the same reason as above. In simple terms, categorical crossentropy is better for one-hot-encoded data because it gives more importance to that the target unit activation should be highest. MSE for instance weighs all deviations from zero for the other units equally important, so optimization gets easily stuck at the minimum of only zero outputs.\n",
    " * Our network also differs in a number of ways from Elman's because we have some different functions available. However, our results should still be comparable (and informative)."
   ]
  },
  {
   "cell_type": "code",
   "execution_count": 65,
   "metadata": {
    "id": "6MmhZtzxjsKE"
   },
   "outputs": [
    {
     "name": "stdout",
     "output_type": "stream",
     "text": [
      "Epoch 1/100\n",
      " - 7s - loss: 3.1372 - categorical_accuracy: 0.1155 - mean_squared_error: 0.0305\n",
      "Epoch 2/100\n",
      " - 8s - loss: 3.1165 - categorical_accuracy: 0.1207 - mean_squared_error: 0.0304\n",
      "Epoch 3/100\n",
      " - 7s - loss: 3.0935 - categorical_accuracy: 0.1196 - mean_squared_error: 0.0304\n",
      "Epoch 4/100\n",
      " - 7s - loss: 3.0752 - categorical_accuracy: 0.1161 - mean_squared_error: 0.0303\n",
      "Epoch 5/100\n",
      " - 7s - loss: 3.0615 - categorical_accuracy: 0.1153 - mean_squared_error: 0.0303\n",
      "Epoch 6/100\n",
      " - 7s - loss: 3.0480 - categorical_accuracy: 0.1211 - mean_squared_error: 0.0302\n",
      "Epoch 7/100\n",
      " - 7s - loss: 3.0334 - categorical_accuracy: 0.1323 - mean_squared_error: 0.0302\n",
      "Epoch 8/100\n",
      " - 6s - loss: 3.0145 - categorical_accuracy: 0.1345 - mean_squared_error: 0.0301\n",
      "Epoch 9/100\n",
      " - 6s - loss: 2.9946 - categorical_accuracy: 0.1391 - mean_squared_error: 0.0300\n",
      "Epoch 10/100\n",
      " - 7s - loss: 2.9644 - categorical_accuracy: 0.1450 - mean_squared_error: 0.0298\n",
      "Epoch 11/100\n",
      " - 6s - loss: 2.9357 - categorical_accuracy: 0.1488 - mean_squared_error: 0.0297\n",
      "Epoch 12/100\n",
      " - 6s - loss: 2.9198 - categorical_accuracy: 0.1490 - mean_squared_error: 0.0297\n",
      "Epoch 13/100\n",
      " - 6s - loss: 2.8835 - categorical_accuracy: 0.1551 - mean_squared_error: 0.0295\n",
      "Epoch 14/100\n",
      " - 6s - loss: 2.8638 - categorical_accuracy: 0.1585 - mean_squared_error: 0.0294\n",
      "Epoch 15/100\n",
      " - 6s - loss: 2.8363 - categorical_accuracy: 0.1624 - mean_squared_error: 0.0293\n",
      "Epoch 16/100\n",
      " - 6s - loss: 2.8084 - categorical_accuracy: 0.1687 - mean_squared_error: 0.0292\n",
      "Epoch 17/100\n",
      " - 6s - loss: 2.7889 - categorical_accuracy: 0.1731 - mean_squared_error: 0.0291\n",
      "Epoch 18/100\n",
      " - 7s - loss: 2.7638 - categorical_accuracy: 0.1795 - mean_squared_error: 0.0291\n",
      "Epoch 19/100\n",
      " - 7s - loss: 2.7366 - categorical_accuracy: 0.1853 - mean_squared_error: 0.0290\n",
      "Epoch 20/100\n",
      " - 7s - loss: 2.7105 - categorical_accuracy: 0.1859 - mean_squared_error: 0.0288\n",
      "Epoch 21/100\n",
      " - 6s - loss: 2.6885 - categorical_accuracy: 0.1835 - mean_squared_error: 0.0287\n",
      "Epoch 22/100\n",
      " - 6s - loss: 2.6704 - categorical_accuracy: 0.1848 - mean_squared_error: 0.0287\n",
      "Epoch 23/100\n",
      " - 6s - loss: 2.6512 - categorical_accuracy: 0.1913 - mean_squared_error: 0.0286\n",
      "Epoch 24/100\n",
      " - 6s - loss: 2.6334 - categorical_accuracy: 0.2007 - mean_squared_error: 0.0286\n",
      "Epoch 25/100\n",
      " - 6s - loss: 2.6163 - categorical_accuracy: 0.2046 - mean_squared_error: 0.0285\n",
      "Epoch 26/100\n",
      " - 6s - loss: 2.5999 - categorical_accuracy: 0.2037 - mean_squared_error: 0.0284\n",
      "Epoch 27/100\n",
      " - 6s - loss: 2.5852 - categorical_accuracy: 0.2023 - mean_squared_error: 0.0284\n",
      "Epoch 28/100\n",
      " - 6s - loss: 2.5700 - categorical_accuracy: 0.2014 - mean_squared_error: 0.0283\n",
      "Epoch 29/100\n",
      " - 6s - loss: 2.5563 - categorical_accuracy: 0.2020 - mean_squared_error: 0.0283\n",
      "Epoch 30/100\n",
      " - 7s - loss: 2.5435 - categorical_accuracy: 0.2070 - mean_squared_error: 0.0282\n",
      "Epoch 31/100\n",
      " - 6s - loss: 2.5310 - categorical_accuracy: 0.2098 - mean_squared_error: 0.0282\n",
      "Epoch 32/100\n",
      " - 6s - loss: 2.5192 - categorical_accuracy: 0.2156 - mean_squared_error: 0.0281\n",
      "Epoch 33/100\n",
      " - 6s - loss: 2.5072 - categorical_accuracy: 0.2180 - mean_squared_error: 0.0281\n",
      "Epoch 34/100\n",
      " - 6s - loss: 2.4962 - categorical_accuracy: 0.2199 - mean_squared_error: 0.0280\n",
      "Epoch 35/100\n",
      " - 6s - loss: 2.4857 - categorical_accuracy: 0.2195 - mean_squared_error: 0.0279\n",
      "Epoch 36/100\n",
      " - 7s - loss: 2.4754 - categorical_accuracy: 0.2196 - mean_squared_error: 0.0279\n",
      "Epoch 37/100\n",
      " - 7s - loss: 2.4653 - categorical_accuracy: 0.2225 - mean_squared_error: 0.0279\n",
      "Epoch 38/100\n",
      " - 10s - loss: 2.4554 - categorical_accuracy: 0.2248 - mean_squared_error: 0.0278\n",
      "Epoch 39/100\n",
      " - 8s - loss: 2.4462 - categorical_accuracy: 0.2272 - mean_squared_error: 0.0278\n",
      "Epoch 40/100\n",
      " - 6s - loss: 2.4373 - categorical_accuracy: 0.2279 - mean_squared_error: 0.0277\n",
      "Epoch 41/100\n",
      " - 6s - loss: 2.4293 - categorical_accuracy: 0.2286 - mean_squared_error: 0.0277\n",
      "Epoch 42/100\n",
      " - 6s - loss: 2.4216 - categorical_accuracy: 0.2299 - mean_squared_error: 0.0277\n",
      "Epoch 43/100\n",
      " - 6s - loss: 2.4140 - categorical_accuracy: 0.2318 - mean_squared_error: 0.0276\n",
      "Epoch 44/100\n",
      " - 6s - loss: 2.4067 - categorical_accuracy: 0.2343 - mean_squared_error: 0.0276\n",
      "Epoch 45/100\n",
      " - 6s - loss: 2.3996 - categorical_accuracy: 0.2356 - mean_squared_error: 0.0276\n",
      "Epoch 46/100\n",
      " - 8s - loss: 2.3930 - categorical_accuracy: 0.2358 - mean_squared_error: 0.0275\n",
      "Epoch 47/100\n",
      " - 7s - loss: 2.3867 - categorical_accuracy: 0.2353 - mean_squared_error: 0.0275\n",
      "Epoch 48/100\n",
      " - 7s - loss: 2.3806 - categorical_accuracy: 0.2364 - mean_squared_error: 0.0275\n",
      "Epoch 49/100\n",
      " - 7s - loss: 2.3745 - categorical_accuracy: 0.2383 - mean_squared_error: 0.0274\n",
      "Epoch 50/100\n",
      " - 6s - loss: 2.3687 - categorical_accuracy: 0.2400 - mean_squared_error: 0.0274\n",
      "Epoch 51/100\n",
      " - 7s - loss: 2.3631 - categorical_accuracy: 0.2417 - mean_squared_error: 0.0274\n",
      "Epoch 52/100\n",
      " - 7s - loss: 2.3578 - categorical_accuracy: 0.2410 - mean_squared_error: 0.0274\n",
      "Epoch 53/100\n",
      " - 7s - loss: 2.3527 - categorical_accuracy: 0.2402 - mean_squared_error: 0.0273\n",
      "Epoch 54/100\n",
      " - 7s - loss: 2.3478 - categorical_accuracy: 0.2409 - mean_squared_error: 0.0273\n",
      "Epoch 55/100\n",
      " - 7s - loss: 2.3430 - categorical_accuracy: 0.2415 - mean_squared_error: 0.0273\n",
      "Epoch 56/100\n",
      " - 8s - loss: 2.3384 - categorical_accuracy: 0.2432 - mean_squared_error: 0.0273\n",
      "Epoch 57/100\n",
      " - 7s - loss: 2.3339 - categorical_accuracy: 0.2431 - mean_squared_error: 0.0273\n",
      "Epoch 58/100\n",
      " - 6s - loss: 2.3296 - categorical_accuracy: 0.2434 - mean_squared_error: 0.0272\n",
      "Epoch 59/100\n",
      " - 7s - loss: 2.3255 - categorical_accuracy: 0.2442 - mean_squared_error: 0.0272\n",
      "Epoch 60/100\n",
      " - 7s - loss: 2.3215 - categorical_accuracy: 0.2444 - mean_squared_error: 0.0272\n",
      "Epoch 61/100\n",
      " - 6s - loss: 2.3175 - categorical_accuracy: 0.2443 - mean_squared_error: 0.0272\n",
      "Epoch 62/100\n",
      " - 6s - loss: 2.3138 - categorical_accuracy: 0.2454 - mean_squared_error: 0.0272\n",
      "Epoch 63/100\n",
      " - 6s - loss: 2.3102 - categorical_accuracy: 0.2459 - mean_squared_error: 0.0272\n",
      "Epoch 64/100\n",
      " - 7s - loss: 2.3067 - categorical_accuracy: 0.2458 - mean_squared_error: 0.0271\n",
      "Epoch 65/100\n",
      " - 7s - loss: 2.3033 - categorical_accuracy: 0.2464 - mean_squared_error: 0.0271\n",
      "Epoch 66/100\n",
      " - 8s - loss: 2.3000 - categorical_accuracy: 0.2463 - mean_squared_error: 0.0271\n",
      "Epoch 67/100\n",
      " - 7s - loss: 2.2968 - categorical_accuracy: 0.2476 - mean_squared_error: 0.0271\n",
      "Epoch 68/100\n",
      " - 7s - loss: 2.2937 - categorical_accuracy: 0.2477 - mean_squared_error: 0.0271\n",
      "Epoch 69/100\n",
      " - 8s - loss: 2.2907 - categorical_accuracy: 0.2487 - mean_squared_error: 0.0271\n",
      "Epoch 70/100\n",
      " - 6s - loss: 2.2878 - categorical_accuracy: 0.2496 - mean_squared_error: 0.0271\n",
      "Epoch 71/100\n",
      " - 6s - loss: 2.2849 - categorical_accuracy: 0.2503 - mean_squared_error: 0.0270\n",
      "Epoch 72/100\n",
      " - 7s - loss: 2.2822 - categorical_accuracy: 0.2506 - mean_squared_error: 0.0270\n",
      "Epoch 73/100\n",
      " - 8s - loss: 2.2795 - categorical_accuracy: 0.2505 - mean_squared_error: 0.0270\n",
      "Epoch 74/100\n",
      " - 10s - loss: 2.2769 - categorical_accuracy: 0.2504 - mean_squared_error: 0.0270\n",
      "Epoch 75/100\n",
      " - 7s - loss: 2.2743 - categorical_accuracy: 0.2507 - mean_squared_error: 0.0270\n",
      "Epoch 76/100\n",
      " - 7s - loss: 2.2719 - categorical_accuracy: 0.2509 - mean_squared_error: 0.0270\n",
      "Epoch 77/100\n",
      " - 6s - loss: 2.2694 - categorical_accuracy: 0.2512 - mean_squared_error: 0.0270\n",
      "Epoch 78/100\n",
      " - 6s - loss: 2.2671 - categorical_accuracy: 0.2520 - mean_squared_error: 0.0270\n",
      "Epoch 79/100\n",
      " - 6s - loss: 2.2648 - categorical_accuracy: 0.2522 - mean_squared_error: 0.0270\n",
      "Epoch 80/100\n",
      " - 6s - loss: 2.2626 - categorical_accuracy: 0.2523 - mean_squared_error: 0.0270\n",
      "Epoch 81/100\n",
      " - 6s - loss: 2.2604 - categorical_accuracy: 0.2524 - mean_squared_error: 0.0269\n",
      "Epoch 82/100\n",
      " - 7s - loss: 2.2583 - categorical_accuracy: 0.2533 - mean_squared_error: 0.0269\n",
      "Epoch 83/100\n",
      " - 7s - loss: 2.2562 - categorical_accuracy: 0.2534 - mean_squared_error: 0.0269\n",
      "Epoch 84/100\n",
      " - 6s - loss: 2.2542 - categorical_accuracy: 0.2534 - mean_squared_error: 0.0269\n",
      "Epoch 85/100\n",
      " - 6s - loss: 2.2522 - categorical_accuracy: 0.2537 - mean_squared_error: 0.0269\n",
      "Epoch 86/100\n",
      " - 6s - loss: 2.2503 - categorical_accuracy: 0.2535 - mean_squared_error: 0.0269\n",
      "Epoch 87/100\n",
      " - 6s - loss: 2.2484 - categorical_accuracy: 0.2538 - mean_squared_error: 0.0269\n",
      "Epoch 88/100\n",
      " - 7s - loss: 2.2465 - categorical_accuracy: 0.2539 - mean_squared_error: 0.0269\n"
     ]
    },
    {
     "name": "stdout",
     "output_type": "stream",
     "text": [
      "Epoch 89/100\n",
      " - 7s - loss: 2.2447 - categorical_accuracy: 0.2541 - mean_squared_error: 0.0269\n",
      "Epoch 90/100\n",
      " - 6s - loss: 2.2429 - categorical_accuracy: 0.2544 - mean_squared_error: 0.0269\n",
      "Epoch 91/100\n",
      " - 7s - loss: 2.2412 - categorical_accuracy: 0.2545 - mean_squared_error: 0.0269\n",
      "Epoch 92/100\n",
      " - 7s - loss: 2.2395 - categorical_accuracy: 0.2545 - mean_squared_error: 0.0269\n",
      "Epoch 93/100\n",
      " - 6s - loss: 2.2378 - categorical_accuracy: 0.2548 - mean_squared_error: 0.0268\n",
      "Epoch 94/100\n",
      " - 7s - loss: 2.2362 - categorical_accuracy: 0.2553 - mean_squared_error: 0.0268\n",
      "Epoch 95/100\n",
      " - 7s - loss: 2.2346 - categorical_accuracy: 0.2553 - mean_squared_error: 0.0268\n",
      "Epoch 96/100\n",
      " - 7s - loss: 2.2330 - categorical_accuracy: 0.2555 - mean_squared_error: 0.0268\n",
      "Epoch 97/100\n",
      " - 7s - loss: 2.2314 - categorical_accuracy: 0.2563 - mean_squared_error: 0.0268\n",
      "Epoch 98/100\n",
      " - 6s - loss: 2.2299 - categorical_accuracy: 0.2567 - mean_squared_error: 0.0268\n",
      "Epoch 99/100\n",
      " - 6s - loss: 2.2284 - categorical_accuracy: 0.2570 - mean_squared_error: 0.0268\n",
      "Epoch 100/100\n",
      " - 7s - loss: 2.2270 - categorical_accuracy: 0.2574 - mean_squared_error: 0.0268\n"
     ]
    }
   ],
   "source": [
    "model.compile(loss='categorical_crossentropy', \n",
    "              optimizer=SGD(lr=0.1, momentum=0.9),\n",
    "              metrics=['categorical_accuracy', 'mean_squared_error'])\n",
    "\n",
    "history = model.fit(X, y, epochs=100, verbose=2)\n"
   ]
  },
  {
   "cell_type": "code",
   "execution_count": 66,
   "metadata": {
    "colab": {
     "base_uri": "https://localhost:8080/",
     "height": 851
    },
    "id": "2C1BnNq8jsKL",
    "outputId": "e99c6b38-9b5f-4565-8cb7-f8e871aac7ab"
   },
   "outputs": [
    {
     "data": {
      "image/png": "[encoded data removed]",
      "text/plain": [
       "<Figure size 432x288 with 1 Axes>"
      ]
     },
     "metadata": {
      "needs_background": "light"
     },
     "output_type": "display_data"
    },
    {
     "data": {
      "image/png": "[encoded data removed]",
      "text/plain": [
       "<Figure size 432x288 with 1 Axes>"
      ]
     },
     "metadata": {
      "needs_background": "light"
     },
     "output_type": "display_data"
    },
    {
     "data": {
      "image/png": "[encoded data removed]",
      "text/plain": [
       "<Figure size 432x288 with 1 Axes>"
      ]
     },
     "metadata": {
      "needs_background": "light"
     },
     "output_type": "display_data"
    }
   ],
   "source": [
    "plt.plot(history.history['loss'])\n",
    "plt.title('Loss (lower is better)')\n",
    "plt.ylabel('Categorical Crossentropy')\n",
    "plt.xlabel('Epoch')\n",
    "plt.show()\n",
    "\n",
    "plt.plot(history.history['categorical_accuracy'])\n",
    "plt.title('Categorical Accuracy (higher is better)')\n",
    "plt.ylabel('Categorical Accuracy')\n",
    "plt.xlabel('Epoch')\n",
    "plt.show()\n",
    "\n",
    "plt.plot(history.history['mean_squared_error'])\n",
    "plt.title('Mean Squared Error (lower is better)')\n",
    "plt.ylabel('MSE')\n",
    "plt.xlabel('Epoch')\n",
    "plt.show()"
   ]
  },
  {
   "cell_type": "markdown",
   "metadata": {
    "id": "kYXCf6LUjsKO"
   },
   "source": [
    "After 100 epochs, the loss gets nearly stable. The MSE metric for the final epoch is:"
   ]
  },
  {
   "cell_type": "code",
   "execution_count": 67,
   "metadata": {
    "id": "B59o33sxjsKP"
   },
   "outputs": [
    {
     "data": {
      "text/plain": [
       "0.8307950086891651"
      ]
     },
     "execution_count": 67,
     "metadata": {},
     "output_type": "execute_result"
    }
   ],
   "source": [
    "history.history['mean_squared_error'][-1] * 31"
   ]
  },
  {
   "cell_type": "markdown",
   "metadata": {
    "id": "BR80RLt9jsKU"
   },
   "source": [
    "It appears that our MSE is a bit lower than the score of Elman. Elman did however train only 6 epochs while we trained 100 epochs. (Poor guy! It probably took him days, if not weeks!)"
   ]
  },
  {
   "cell_type": "markdown",
   "metadata": {
    "id": "Gsxm8nDsjsKW"
   },
   "source": [
    "## Exercise 5"
   ]
  },
  {
   "cell_type": "markdown",
   "metadata": {
    "id": "Gsxm8nDsjsKW"
   },
   "source": [
    "**A) What parameters did you use to define the Elman SRN?**"
   ]
  },
  {
   "cell_type": "markdown",
   "metadata": {
    "id": "Gsxm8nDsjsKW"
   },
   "source": [
    "**B) Elman states: \"Recall that the prediction task is non-deterministic\". Explain why this is so, and why using this network to solve a non-deterministic problem is more interesting than solving a deterministic one.**"
   ]
  },
  {
   "cell_type": "markdown",
   "metadata": {
    "id": "Gsxm8nDsjsKW"
   },
   "source": [
    "**C) Commonly when training and evaluating neural networks, we are conerned about how quickly the loss decreases and how low we can get it to be. But consider: are these useful evaluation metrics for this particular problem? Why or why not? Explain your answer.**"
   ]
  },
  {
   "cell_type": "markdown",
   "metadata": {
    "id": "yFfIlZi0jsKX"
   },
   "source": [
    "## Network Analysis\n",
    "\n",
    "Let's take a look at our network again. With large number of units in our network, our weight matrix is hard to visually interpret. We can still take a look at some input output combinations in our activation matrix."
   ]
  },
  {
   "cell_type": "code",
   "execution_count": 68,
   "metadata": {
    "id": "dMlSqGqTjsKY"
   },
   "outputs": [
    {
     "name": "stderr",
     "output_type": "stream",
     "text": [
      "/Users/pedrorodriguezdeledesmajimenez/opt/anaconda3/envs/ComputerSimulationOfLanguage/lib/python3.5/site-packages/matplotlib/text.py:1190: FutureWarning: elementwise comparison failed; returning scalar instead, but in the future will perform elementwise comparison\n",
      "  if s != self._text:\n"
     ]
    },
    {
     "data": {
      "image/png": "[encoded data removed]",
      "text/plain": [
       "<Figure size 720x576 with 2 Axes>"
      ]
     },
     "metadata": {
      "needs_background": "light"
     },
     "output_type": "display_data"
    }
   ],
   "source": [
    "from plot_functions import plot_activation_matrix\n",
    "\n",
    "plt.figure(figsize=(10,8))\n",
    "plot_activation_matrix(model, X, layers=[model.layers[1]],\n",
    "                       subset=(0, slice(0, 20), slice(None)),\n",
    "                       show_values=False)"
   ]
  },
  {
   "cell_type": "markdown",
   "metadata": {
    "id": "xxECnAL5jsKb"
   },
   "source": [
    "We can at least see that the network makes predictions and some words are more easily predictable than others. Elman (1990) created a hierarchical cluster of the mean hidden layer activation values per input word. Elman found that the hidden layer activations of similar words are also similar. Let's reproduce his dendrogram:"
   ]
  },
  {
   "cell_type": "code",
   "execution_count": 69,
   "metadata": {
    "id": "W_LZQlLkjsKf"
   },
   "outputs": [],
   "source": [
    "from utils import get_activation_matrix\n",
    "\n",
    "import pandas as pd\n",
    "from scipy.cluster.hierarchy import dendrogram, linkage"
   ]
  },
  {
   "cell_type": "code",
   "execution_count": 70,
   "metadata": {
    "id": "JUaKlq-LjsKi"
   },
   "outputs": [
    {
     "data": {
      "image/png": "[encoded data removed]",
      "text/plain": [
       "<Figure size 720x720 with 1 Axes>"
      ]
     },
     "metadata": {
      "needs_background": "light"
     },
     "output_type": "display_data"
    }
   ],
   "source": [
    "# Use pandas to easily calculate group means for the hidden layer\n",
    "activations = pd.DataFrame(get_activation_matrix(model, X, layers=[model.layers[0]])[0])\n",
    "mean_activations = activations.groupby(words).mean()\n",
    "\n",
    "# Use scipy to create a hierarchical cluster\n",
    "Z = linkage(mean_activations, method='complete', metric='euclidean', optimal_ordering=True)\n",
    "\n",
    "plt.figure(figsize=(10,10))\n",
    "dendrogram(Z,\n",
    "           labels=mean_activations.index, \n",
    "           leaf_rotation=0, \n",
    "           orientation='left',\n",
    "           color_threshold=2.0,\n",
    "           above_threshold_color='grey')\n",
    "plt.show()"
   ]
  },
  {
   "cell_type": "markdown",
   "metadata": {
    "id": "hRlgwWDujsKl"
   },
   "source": [
    "## Exercise 6"
   ]
  },
  {
   "cell_type": "markdown",
   "metadata": {
    "id": "hRlgwWDujsKl"
   },
   "source": [
    "**A) Training the network for 100 epochs, can you conclude that the network did learn lexical categories from the dendogram? Explain your results.**"
   ]
  },
  {
   "cell_type": "markdown",
   "metadata": {
    "id": "hRlgwWDujsKl"
   },
   "source": [
    "**B) Retrain the model with only 6 epochs (like Elman). To what degree are your results similar to those that Elman got? Explain what you find.**"
   ]
  },
  {
   "cell_type": "markdown",
   "metadata": {
    "id": "taPStXzqjsKn"
   },
   "source": [
    "## Exercise 7"
   ]
  },
  {
   "cell_type": "markdown",
   "metadata": {
    "id": "taPStXzqjsKn"
   },
   "source": [
    "One of the criticisms of Elman's model was that it didn't incorporate any homonyms: all strings only belonged to one part-of-speech category, however in English it's very common for the same string to be used both as a verb and a noun (e.g. 'rock' and 'smell' can be both a verb and a noun). \n",
    "\n",
    "Run a new experiment to determine whether or not Elman's good results are dependent on using a grammar that avoids ambiguity, or if the same RNN is able to deal with ambiguity with little or no problem. Youc an set up this experiment any way you like, but at the very least you should modify the  the sentence_generator.py function so that sentences are created where at least one string is both a noun and a verb. Note that you may have to modify the number of input and output nodes if you increase the vocabulary size, so keep in mind how changes in the generated data might affect their ability to be used with the model we created above."
   ]
  },
  {
   "cell_type": "markdown",
   "metadata": {
    "id": "taPStXzqjsKn"
   },
   "source": [
    "**A) Explain how you ran your experiment? How much ambiguity did you introduce and what ambiguity was it?**"
   ]
  },
  {
   "cell_type": "markdown",
   "metadata": {
    "id": "taPStXzqjsKn"
   },
   "source": [
    "**B) How does this ambiguity affect the networks ability to learn to predict the next word?**"
   ]
  },
  {
   "cell_type": "markdown",
   "metadata": {
    "id": "taPStXzqjsKn"
   },
   "source": [
    "**C) Does the network still seem to learn different syntactic and semantic classes? Explain your answer, comparing with Elman's model.**"
   ]
  },
  {
   "cell_type": "markdown",
   "metadata": {
    "id": "taPStXzqjsKn"
   },
   "source": [
    "## Exercise 8"
   ]
  },
  {
   "cell_type": "markdown",
   "metadata": {
    "id": "taPStXzqjsKn"
   },
   "source": [
    "**A) In the first lecture, 5 advantages for computational modelling were presented: (1) Study complex predictions or interactions, (2) Practicality, (3) Inspiration, (4) Control and Explanation, and (5) Explicitness. Explain how the SRN model of nouns and verbs relates to each one of the advantages. Discuss each one of these five advantages. Your answer should not be longer than 400 words.**"
   ]
  },
  {
   "cell_type": "markdown",
   "metadata": {
    "id": "taPStXzqjsKn"
   },
   "source": [
    "**B) At the end of his paper, Elman (1990) states \"Some problems change their nature when expressed as temporal events\", and in the paper the main example of this is the modelling of XOR in a simple feed forward network compared to an SRN. In the lab we also modelled word sequences and saw that parts-of-speech like nouns and verbs could emerge from modelling sequences. But this problem was presented as a serial one. Can you speculate on how\n",
    "noun and verb detection could be learned with a simple feedforward network? What would the input look like and do you think it could successfully learn from data? What would that then mean for Elman's quote?**"
   ]
  },
  {
   "cell_type": "code",
   "execution_count": null,
   "metadata": {},
   "outputs": [],
   "source": [
    "3/5\n"
   ]
  },
  {
   "cell_type": "code",
   "execution_count": null,
   "metadata": {},
   "outputs": [],
   "source": []
  }
 ],
 "metadata": {
  "colab": {
   "collapsed_sections": [
    "uLwd7cCujsIg",
    "FTgvpP2ejsIx",
    "0c0_CJvljsJX",
    "46nfGrHkjsJo",
    "Gsxm8nDsjsKW",
    "taPStXzqjsKn"
   ],
   "name": "Lab_1_2021_revised.ipynb",
   "provenance": []
  },
  "kernelspec": {
   "display_name": "Python 3 (ipykernel)",
   "language": "python",
   "name": "python3"
  },
  "language_info": {
   "codemirror_mode": {
    "name": "ipython",
    "version": 3
   },
   "file_extension": ".py",
   "mimetype": "text/x-python",
   "name": "python",
   "nbconvert_exporter": "python",
   "pygments_lexer": "ipython3",
   "version": "3.9.7"
  }
 },
 "nbformat": 4,
 "nbformat_minor": 1
}
